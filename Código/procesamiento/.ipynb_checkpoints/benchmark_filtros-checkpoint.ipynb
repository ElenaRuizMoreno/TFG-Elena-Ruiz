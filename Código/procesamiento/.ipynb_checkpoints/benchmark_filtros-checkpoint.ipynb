{
 "cells": [
  {
   "cell_type": "code",
   "execution_count": 2,
   "metadata": {},
   "outputs": [],
   "source": [
    "import pandas as pd\n",
    "import numpy as np\n",
    "import matplotlib.pyplot as plt\n",
    "from scipy.signal import butter, filtfilt\n",
    "import timeit\n"
   ]
  },
  {
   "cell_type": "code",
   "execution_count": 4,
   "metadata": {},
   "outputs": [
    {
     "name": "stdout",
     "output_type": "stream",
     "text": [
      "Frecuencia de muestreo estimada: 58.82 Hz\n",
      "Número de muestras: 1450\n"
     ]
    }
   ],
   "source": [
    "# Ruta al archivo CSV (ajusta si lo tienes en otro sitio)\n",
    "ruta_csv = \"C:/Users/Elena/Desktop/GitHub/TFG-Elena-Ruiz/Datos/Datos crudos/save_log2/raw_data_95_77_2.csv\"\n",
    "\n",
    "# Cargar y preparar la señal IR\n",
    "df = pd.read_csv(ruta_csv)\n",
    "tiempo = df[\"Tiempo (ms)\"].values / 1000  # Convertir a segundos\n",
    "ir_signal = df[\"IR\"].values\n",
    "\n",
    "# Recorte para eliminar los primeros 3 segundos y últimos 3\n",
    "fs_estimada = 1 / np.median(np.diff(tiempo))  # Frecuencia de muestreo estimada\n",
    "samples_to_trim = int(3 * fs_estimada)\n",
    "tiempo = tiempo[samples_to_trim:-samples_to_trim]\n",
    "ir_signal = ir_signal[samples_to_trim:-samples_to_trim]\n",
    "\n",
    "# Mostrar información\n",
    "print(f\"Frecuencia de muestreo estimada: {fs_estimada:.2f} Hz\")\n",
    "print(f\"Número de muestras: {len(ir_signal)}\")\n"
   ]
  },
  {
   "cell_type": "code",
   "execution_count": 9,
   "metadata": {},
   "outputs": [],
   "source": [
    "from scipy.signal import medfilt\n",
    "\n",
    "def filtro_media_movil_completo(senal, ventana_media=5, ventana_mediana=5):\n",
    "    # Filtro de media móvil con padding\n",
    "    pad = ventana_media // 2\n",
    "    senal_padded = np.pad(senal, (pad, pad), mode='edge')\n",
    "    senal_suavizada = np.convolve(senal_padded, np.ones(ventana_media)/ventana_media, mode='valid')\n",
    "    \n",
    "    # Filtro de mediana\n",
    "    senal_filtrada = medfilt(senal_suavizada, kernel_size=ventana_mediana)\n",
    "    \n",
    "    return senal_filtrada\n"
   ]
  },
  {
   "cell_type": "code",
   "execution_count": 6,
   "metadata": {},
   "outputs": [],
   "source": [
    "def filtro_pasa_bajo(senal, fs=60, cutoff=3, orden=4):\n",
    "    nyquist = 0.5 * fs\n",
    "    normal_cutoff = cutoff / nyquist\n",
    "    b, a = butter(orden, normal_cutoff, btype='low', analog=False)\n",
    "    return filtfilt(b, a, senal)\n"
   ]
  },
  {
   "cell_type": "code",
   "execution_count": 10,
   "metadata": {},
   "outputs": [
    {
     "name": "stdout",
     "output_type": "stream",
     "text": [
      "Tiempo medio (media móvil + mediana): 4.036 ms\n"
     ]
    }
   ],
   "source": [
    "# Medir tiempo de ejecución del filtro combinado (media móvil + mediana)\n",
    "tiempo_movil_mas_mediana = timeit.timeit(\n",
    "    stmt='filtro_media_movil_completo(ir_signal, ventana_media=5, ventana_mediana=5)',\n",
    "    globals=globals(),\n",
    "    number=100\n",
    ") / 100\n",
    "\n",
    "print(f\"Tiempo medio (media móvil + mediana): {tiempo_movil_mas_mediana*1000:.3f} ms\")\n"
   ]
  },
  {
   "cell_type": "code",
   "execution_count": 8,
   "metadata": {},
   "outputs": [
    {
     "name": "stdout",
     "output_type": "stream",
     "text": [
      "Tiempo medio (pasa bajos): 2.636 ms\n"
     ]
    }
   ],
   "source": [
    "# Medir tiempo de ejecución del filtro pasa bajos\n",
    "tiempo_pasa_bajo = timeit.timeit(\n",
    "    stmt='filtro_pasa_bajo(ir_signal, fs=fs_estimada, cutoff=3)',\n",
    "    globals=globals(),\n",
    "    number=100\n",
    ") / 100\n",
    "\n",
    "print(f\"Tiempo medio (pasa bajos): {tiempo_pasa_bajo*1000:.3f} ms\")\n"
   ]
  },
  {
   "cell_type": "markdown",
   "metadata": {},
   "source": [
    "Ambos filtros funcionan bien y dan resultados coherentes para detectar el pulso.\n",
    "Aunque el filtro paso bajo es más rápido, el filtro de media móvil + mediana tiene una estructura mucho más simple, lo que lo hace ser más fácil de implementar en un microcontrolador, sobre todo si el tiempo de ejecución no es crítico (4 ms es perfectamente asumible si trabajas a 60 Hz o menos)."
   ]
  }
 ],
 "metadata": {
  "kernelspec": {
   "display_name": "Python 3",
   "language": "python",
   "name": "python3"
  },
  "language_info": {
   "codemirror_mode": {
    "name": "ipython",
    "version": 3
   },
   "file_extension": ".py",
   "mimetype": "text/x-python",
   "name": "python",
   "nbconvert_exporter": "python",
   "pygments_lexer": "ipython3",
   "version": "3.8.5"
  }
 },
 "nbformat": 4,
 "nbformat_minor": 4
}
