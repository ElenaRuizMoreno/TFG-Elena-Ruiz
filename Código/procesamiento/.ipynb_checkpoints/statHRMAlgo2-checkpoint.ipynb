{
 "cells": [
  {
   "cell_type": "markdown",
   "metadata": {},
   "source": [
    "# Cálculo de la frecuencia cardiaca a partir del algoritmo statHRMAlgo "
   ]
  },
  {
   "cell_type": "markdown",
   "metadata": {},
   "source": [
    "Analizando la **SPO2 task** y la función statHRMAlgo(), veo que el método de cálculo de la frecuencia cardíaca se basa en:\n",
    "\n",
    "- **Promedio móvil:** Se acumulan valores de la señal en una ventana deslizante (*movingWindowHP*).\n",
    "\n",
    "- **Detección de picos:** Se buscan máximos y mínimos locales en un buffer de 20 muestras (*peakWindowHP*).\n",
    "\n",
    "- **Cálculo de la frecuencia:** Se mide la distancia entre picos (*lastPeak*), y se usa la ecuación:"
   ]
  },
  {
   "attachments": {
    "image.png": {
     "image/png": "[encoded data removed]"
    }
   },
   "cell_type": "markdown",
   "metadata": {},
   "source": [
    "![image.png](attachment:image.png)"
   ]
  },
  {
   "cell_type": "markdown",
   "metadata": {},
   "source": [
    "Se filtra entre 40 y 220 BPM.\n",
    "\n",
    "- **Filtrado del resultado:** Se eliminan valores extremos y se toma un promedio."
   ]
  },
  {
   "cell_type": "code",
   "execution_count": 2,
   "metadata": {},
   "outputs": [
    {
     "name": "stdout",
     "output_type": "stream",
     "text": [
      "Frecuencia cardíaca estimada: 81.81818181818183 BPM\n"
     ]
    }
   ],
   "source": [
    "import pandas as pd\n",
    "import numpy as np\n",
    "import matplotlib.pyplot as plt\n",
    "from scipy.signal import find_peaks\n",
    "\n",
    "def moving_average(signal, window_size=20):\n",
    "    return np.convolve(signal, np.ones(window_size)/window_size, mode='valid')\n",
    "\n",
    "def detect_peaks(signal, window_size=20):\n",
    "    peaks, _ = find_peaks(signal, distance=window_size)\n",
    "    return peaks\n",
    "\n",
    "def detect_valleys(signal, window_size=20):\n",
    "    valleys, _ = find_peaks(-signal, distance=window_size)\n",
    "    return valleys\n",
    "\n",
    "def calculate_heart_rate(peaks, sampling_rate=60):\n",
    "    if len(peaks) < 2:\n",
    "        return None  # No suficientes picos detectados\n",
    "    \n",
    "    rr_intervals = np.diff(peaks) / sampling_rate  # Intervalos RR en segundos\n",
    "    heart_rates = 60 / rr_intervals  # FC en latidos por minuto\n",
    "    \n",
    "    # Filtrar valores fuera de un rango razonable\n",
    "    heart_rates = heart_rates[(heart_rates > 40) & (heart_rates < 220)]\n",
    "    \n",
    "    if len(heart_rates) == 0:\n",
    "        return None\n",
    "    \n",
    "    return np.median(heart_rates)\n",
    "\n",
    "# Cargar datos\n",
    "file_path = r\"C:\\Users\\Elena\\Desktop\\GitHub\\TFG-Elena-Ruiz\\Datos\\Datos crudos\\save_log2\\raw_data_95_77_2.csv\"\n",
    "df = pd.read_csv(file_path, sep=';', decimal='.', engine='python')\n",
    "time = df.iloc[:, 0].values  # Suponiendo que la primera columna es el tiempo\n",
    "data_ir = df.iloc[:, 1].values  # Suponiendo que la segunda columna es la señal IR\n",
    "\n",
    "# Aplicar media móvil\n",
    "data_ir_smoothed = moving_average(data_ir)\n",
    "\n",
    "# Detectar picos y valles\n",
    "peaks = detect_peaks(data_ir_smoothed)\n",
    "valleys = detect_valleys(data_ir_smoothed)\n",
    "\n",
    "# Calcular frecuencia cardíaca\n",
    "heart_rate = calculate_heart_rate(peaks)\n",
    "\n",
    "print(f\"Frecuencia cardíaca estimada: {heart_rate} BPM\")\n",
    "\n"
   ]
  },
  {
   "cell_type": "code",
   "execution_count": 8,
   "metadata": {},
   "outputs": [
    {
     "name": "stdout",
     "output_type": "stream",
     "text": [
      "Frecuencia cardíaca estimada: 74.49 BPM\n"
     ]
    }
   ],
   "source": [
    "import pandas as pd\n",
    "import numpy as np\n",
    "from scipy.signal import find_peaks\n",
    "\n",
    "def estimate_heart_rate(csv_file):\n",
    "    # Cargar datos con separador ';'\n",
    "    df = pd.read_csv(csv_file, sep=';')\n",
    "    \n",
    "    # Extraer el tiempo y la señal RED:\n",
    "    time = df.iloc[:, 0].values  # selecciona la primera columna del DataFrame (que es el tiempo en milisegundos).\n",
    "    red_signal = df.iloc[:, 3].values  # selecciona la cuarta columna del DataFrame (que es la señal RED, que contiene \n",
    "                                       # los valores de intensidad de la luz en el sensor)\n",
    "    \n",
    "    # Convertir tiempo a segundos\n",
    "    \n",
    "    # convertimos el tiempo de milisegundos a segundos restando el valor inicial de tiempo (para que empiece desde cero) y \n",
    "    # luego dividiendo entre 1000 para convertir milisegundos a segundos.\n",
    "    time = (time - time[0]) / 1000.0\n",
    "    \n",
    "    # Aplicar media móvil para suavizar la señal\n",
    "    \n",
    "    # La señal RED puede tener ruido, por lo que utilizamos un filtro de media móvil para suavizarla.\n",
    "    # np.convolve(red_signal, np.ones(window_size)/window_size, mode='valid') aplica una convolución de la señal con una ventana \n",
    "    # de tamaño window_size (en este caso, 10). Esto suaviza la señal tomando el promedio de los valores en esa ventana.\n",
    "    window_size = 10\n",
    "    red_signal_smooth = np.convolve(red_signal, np.ones(window_size)/window_size, mode='valid')\n",
    "    \n",
    "    # Detección de picos (máximos)\n",
    "    \n",
    "    # find_peaks() es una función que detecta los picos locales (máximos) en la señal.\n",
    "\n",
    "    # distance=30 asegura que los picos estén separados al menos 30 muestras entre sí, evitando detecciones erróneas de picos\n",
    "    # muy cercanos \n",
    "    # prominence=500 garantiza que solo se detecten picos que tengan una prominencia significativa, es decir, picos que \n",
    "    # sobresalgan lo suficiente del resto de la señal.\n",
    "    peaks, _ = find_peaks(red_signal_smooth, distance=30, prominence=500)\n",
    "    \n",
    "    # Calcular intervalos entre picos\n",
    "    \n",
    "    # np.diff(time[peaks]) calcula las diferencias de tiempo entre los picos detectados. Estos valores son los intervalos RR, \n",
    "    # que corresponden al tiempo entre latidos del corazón (en segundos).\n",
    "    peak_intervals = np.diff(time[peaks])\n",
    "    \n",
    "    # Calcular la frecuencia cardíaca (BPM)\n",
    "    \n",
    "    if len(peak_intervals) > 1:\n",
    "        # Si se detectaron al menos dos picos, calculamos el intervalo medio entre los picos\n",
    "        avg_rr_interval = np.mean(peak_intervals)  # Intervalo medio entre picos en segundos\n",
    "        # La frecuencia cardíaca se calcula como 60 / avg_rr_interval, porque la frecuencia cardíaca es la cantidad de latidos \n",
    "        # por minuto (BPM), y el intervalo se mide en segundos. Por lo tanto, dividimos 60 segundos por el promedio de los intervalos.\n",
    "        heart_rate = 60 / avg_rr_interval  # BPM\n",
    "    else:\n",
    "        # Si no se detectan suficientes picos, se retorna None\n",
    "        heart_rate = None  # No se detectaron suficientes picos\n",
    "    \n",
    "    return heart_rate\n",
    "\n",
    "# Ejecutar la estimación\n",
    "csv_file = r\"C:\\Users\\Elena\\Desktop\\GitHub\\TFG-Elena-Ruiz\\Datos\\Datos crudos\\save_log2\\raw_data_95_77_2.csv\"\n",
    "heart_rate = estimate_heart_rate(csv_file)\n",
    "\n",
    "\n",
    "if heart_rate:\n",
    "    # Si se pudo calcular la frecuencia cardíaca, se imprime el resultado con dos decimales\n",
    "    print(f\"Frecuencia cardíaca estimada: {heart_rate:.2f} BPM\")\n",
    "else:\n",
    "    # Si no se detectaron suficientes picos, se imprime un mensaje indicando que no fue posible calcularla.\n",
    "    print(\"No se detectaron suficientes picos para calcular la frecuencia cardíaca.\")\n"
   ]
  },
  {
   "cell_type": "code",
   "execution_count": 29,
   "metadata": {},
   "outputs": [
    {
     "name": "stdout",
     "output_type": "stream",
     "text": [
      "Frecuencia cardíaca estimada: 76.60 BPM\n"
     ]
    }
   ],
   "source": [
    "import pandas as pd\n",
    "import numpy as np\n",
    "from scipy.signal import find_peaks\n",
    "\n",
    "def estimate_heart_rate(csv_file):\n",
    "    # Cargar datos con separador ';'\n",
    "    df = pd.read_csv(csv_file, sep=';')\n",
    "    time = df.iloc[:, 0].values  # Tiempo en ms\n",
    "    red_signal = df.iloc[:, 3].values  # Señal RED\n",
    "    \n",
    "    # Convertir tiempo a segundos\n",
    "    time = (time - time[0]) / 1000.0\n",
    "    \n",
    "    # Aplicar media móvil para suavizar la señal\n",
    "    window_size = 5  # Reducido para mayor precisión\n",
    "    red_signal_smooth = np.convolve(red_signal, np.ones(window_size)/window_size, mode='valid')\n",
    "    \n",
    "    # Detección de picos (máximos)\n",
    "    peaks, _ = find_peaks(red_signal_smooth, distance=34, prominence=300)  # Ajustado para mejor detección\n",
    "    \n",
    "    # Calcular intervalos entre picos\n",
    "    peak_intervals = np.diff(time[peaks])\n",
    "    \n",
    "    if len(peak_intervals) > 1:\n",
    "        avg_rr_interval = np.mean(peak_intervals)  # Intervalo medio entre picos en segundos\n",
    "        heart_rate = 60 / avg_rr_interval  # BPM\n",
    "    else:\n",
    "        heart_rate = None  # No se detectaron suficientes picos\n",
    "    \n",
    "    return heart_rate\n",
    "\n",
    "# Ejecutar la estimación\n",
    "csv_file = r\"C:\\Users\\Elena\\Desktop\\GitHub\\TFG-Elena-Ruiz\\Datos\\Datos crudos\\save_log2\\raw_data_95_77_2.csv\"\n",
    "heart_rate = estimate_heart_rate(csv_file)\n",
    "\n",
    "if heart_rate:\n",
    "    print(f\"Frecuencia cardíaca estimada: {heart_rate:.2f} BPM\")\n",
    "else:\n",
    "    print(\"No se detectaron suficientes picos para calcular la frecuencia cardíaca.\")\n"
   ]
  },
  {
   "cell_type": "markdown",
   "metadata": {},
   "source": [
    "El parámetro que he cambiado es distance, cuanto más aumenta el numero, más picos detecta, y cuanto menos aumenta, menos detecta"
   ]
  }
 ],
 "metadata": {
  "kernelspec": {
   "display_name": "Python 3",
   "language": "python",
   "name": "python3"
  },
  "language_info": {
   "codemirror_mode": {
    "name": "ipython",
    "version": 3
   },
   "file_extension": ".py",
   "mimetype": "text/x-python",
   "name": "python",
   "nbconvert_exporter": "python",
   "pygments_lexer": "ipython3",
   "version": "3.8.5"
  }
 },
 "nbformat": 4,
 "nbformat_minor": 4
}
