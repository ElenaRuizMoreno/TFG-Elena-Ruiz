{
 "cells": [
  {
   "cell_type": "code",
   "execution_count": 7,
   "metadata": {},
   "outputs": [
    {
     "data": {
      "image/png": "[encoded data removed]",
      "text/plain": [
       "<Figure size 720x360 with 1 Axes>"
      ]
     },
     "metadata": {
      "needs_background": "light"
     },
     "output_type": "display_data"
    }
   ],
   "source": [
    "import pandas as pd\n",
    "import os\n",
    "import re\n",
    "import numpy as np\n",
    "from collections import defaultdict\n",
    "import matplotlib.pyplot as plt\n",
    "from scipy.interpolate import interp1d\n",
    "\n",
    "ruta = \"C:/Users/Elena/Desktop/GitHub/TFG-Elena-Ruiz/Datos/Procesados\"\n",
    "archivos = [f for f in os.listdir(ruta) if f.endswith(\".csv\")]\n",
    "\n",
    "ratios_dict = defaultdict(list)\n",
    "\n",
    "for archivo in archivos:\n",
    "    match = re.search(r'(\\d+)_\\d+\\.csv', archivo)  # Extrae el SpO2 externo\n",
    "    if match:\n",
    "        spo2_ext = int(match.group(1))\n",
    "        try:\n",
    "            df = pd.read_csv(os.path.join(ruta, archivo))\n",
    "            ir = df[\"IR\"] - df[\"AMB_IR\"]\n",
    "            red = df[\"RED\"] - df[\"AMB_RED\"]\n",
    "\n",
    "            ac_ir = ir.max() - ir.min()\n",
    "            dc_ir = ir.mean()\n",
    "            ac_red = red.max() - red.min()\n",
    "            dc_red = red.mean()\n",
    "\n",
    "            if all(val > 0 for val in [ac_ir, dc_ir, ac_red, dc_red]):\n",
    "                ratio = (ac_red / dc_red) / (ac_ir / dc_ir)\n",
    "                index = int(ratio * 100)\n",
    "                if 0 <= index < 184:\n",
    "                    ratios_dict[index].append(spo2_ext)\n",
    "        except Exception as e:\n",
    "            print(f\"{archivo}: ERROR {e}\")\n",
    "\n",
    "# Crear tabla a partir del promedio por índice\n",
    "tabla_spo2 = [0] * 184\n",
    "for idx in range(184):\n",
    "    if ratios_dict[idx]:\n",
    "        tabla_spo2[idx] = int(np.mean(ratios_dict[idx]))\n",
    "\n",
    "# Interpolación para rellenar huecos\n",
    "x_known = [i for i, val in enumerate(tabla_spo2) if val > 0]\n",
    "y_known = [val for val in tabla_spo2 if val > 0]\n",
    "\n",
    "interp_func = interp1d(x_known, y_known, kind='linear', fill_value=\"extrapolate\")\n",
    "tabla_spo2_interp = [int(np.clip(interp_func(i), 70, 100)) for i in range(184)]\n",
    "\n",
    "# Visualizar la tabla construida\n",
    "plt.figure(figsize=(10, 5))\n",
    "plt.plot(tabla_spo2_interp, label=\"Interpolada\")\n",
    "plt.scatter(x_known, y_known, color='red', label=\"Datos reales\")\n",
    "plt.xlabel(\"Índice (ratio R * 100)\")\n",
    "plt.ylabel(\"SpO₂ (%)\")\n",
    "plt.title(\"Tabla uch_spo2_table construida a partir de tus datos\")\n",
    "plt.grid(True)\n",
    "plt.legend()\n",
    "plt.show()\n"
   ]
  },
  {
   "cell_type": "code",
   "execution_count": 8,
   "metadata": {},
   "outputs": [
    {
     "name": "stdout",
     "output_type": "stream",
     "text": [
      "\n",
      "--- Estimación de SpO₂ usando tu propia tabla ---\n",
      "\n",
      "raw_data_91_91.csv                       → R = 0.534 → SpO₂ estimado = 91%\n",
      "raw_data_92_76.csv                       → R = 11.015 → SpO₂ estimado = 94%\n",
      "raw_data_93_100.csv                      → Señal no válida\n",
      "raw_data_95_77_2.csv                     → R = 0.811 → SpO₂ estimado = 77%\n",
      "raw_data_95_80.csv                       → R = 2.246 → SpO₂ estimado = 94%\n",
      "raw_data_95_81_papa.csv                  → R = 0.626 → SpO₂ estimado = 86%\n",
      "raw_data_95_99.csv                       → R = 1.770 → SpO₂ estimado = 95%\n",
      "raw_data_96_69.csv                       → R = 0.895 → SpO₂ estimado = 96%\n",
      "raw_data_98_81.csv                       → R = 4.006 → SpO₂ estimado = 94%\n",
      "raw_data_99_75.csv                       → R = 2.311 → SpO₂ estimado = 94%\n",
      "raw_data_99_91.csv                       → R = 1.311 → SpO₂ estimado = 99%\n"
     ]
    }
   ],
   "source": [
    "def estimar_spo2(ratio, tabla):\n",
    "    index = int(ratio * 100)\n",
    "    index = np.clip(index, 0, len(tabla) - 1)\n",
    "    return tabla[index]\n",
    "\n",
    "print(\"\\n--- Estimación de SpO₂ usando tu propia tabla ---\\n\")\n",
    "for archivo in archivos:\n",
    "    try:\n",
    "        df = pd.read_csv(os.path.join(ruta, archivo))\n",
    "        ir = df[\"IR\"] - df[\"AMB_IR\"]\n",
    "        red = df[\"RED\"] - df[\"AMB_RED\"]\n",
    "\n",
    "        ac_ir = ir.max() - ir.min()\n",
    "        dc_ir = ir.mean()\n",
    "        ac_red = red.max() - red.min()\n",
    "        dc_red = red.mean()\n",
    "\n",
    "        if all(val > 0 for val in [ac_ir, dc_ir, ac_red, dc_red]):\n",
    "            ratio = (ac_red / dc_red) / (ac_ir / dc_ir)\n",
    "            spo2_estimado = estimar_spo2(ratio, tabla_spo2_interp)\n",
    "            print(f\"{archivo:40s} → R = {ratio:.3f} → SpO₂ estimado = {spo2_estimado}%\")\n",
    "        else:\n",
    "            print(f\"{archivo:40s} → Señal no válida\")\n",
    "    except Exception as e:\n",
    "        print(f\"{archivo:40s} → ERROR: {e}\")\n"
   ]
  },
  {
   "cell_type": "code",
   "execution_count": null,
   "metadata": {},
   "outputs": [],
   "source": [
    "# Cargar el archivo CSV\n",
    "df = pd.read_csv(\"/mnt/data/raw_data_95_77_2.csv\")\n",
    "\n",
    "# Corregimos por luz ambiental\n",
    "df[\"IR_corr\"] = df[\"IR\"] - df[\"AMB_IR\"]\n",
    "\n",
    "# Convertir tiempo a segundos\n",
    "df[\"Tiempo_s\"] = df[\"Tiempo (ms)\"] / 1000\n",
    "\n",
    "# Recorte de una ventana de 10 segundos para mejor visualización\n",
    "# Suponiendo que la frecuencia de muestreo es de 60 Hz\n",
    "ventana_segundos = 10\n",
    "fs = 60\n",
    "n_muestras = ventana_segundos * fs\n",
    "df_recorte = df.iloc[:n_muestras]\n",
    "\n",
    "# Graficar solo esa ventana\n",
    "import matplotlib.pyplot as plt\n",
    "\n",
    "plt.figure(figsize=(12, 4))\n",
    "plt.plot(df_recorte[\"Tiempo_s\"], df_recorte[\"IR_corr\"], label=\"IR corregido\")\n",
    "plt.title(\"Señal PPG (IR corregido) - Ventana de 10 segundos\")\n",
    "plt.xlabel(\"Tiempo (s)\")\n",
    "plt.ylabel(\"Intensidad\")\n",
    "plt.grid(True)\n",
    "plt.legend()\n",
    "plt.tight_layout()\n",
    "plt.show()\n"
   ]
  }
 ],
 "metadata": {
  "kernelspec": {
   "display_name": "Python 3",
   "language": "python",
   "name": "python3"
  },
  "language_info": {
   "codemirror_mode": {
    "name": "ipython",
    "version": 3
   },
   "file_extension": ".py",
   "mimetype": "text/x-python",
   "name": "python",
   "nbconvert_exporter": "python",
   "pygments_lexer": "ipython3",
   "version": "3.8.5"
  }
 },
 "nbformat": 4,
 "nbformat_minor": 4
}
