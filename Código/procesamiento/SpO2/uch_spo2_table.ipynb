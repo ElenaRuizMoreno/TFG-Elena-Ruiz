{
 "cells": [
  {
   "cell_type": "markdown",
   "metadata": {},
   "source": [
    "## Generación personalizada de una tabla LUT para estimación de SpO₂\n",
    "\n",
    "Este notebook construye una tabla de búsqueda (LUT, Look-Up Table) personalizada para estimar la saturación de oxígeno (SpO₂) en función del ratio óptico \\( R \\) calculado a partir de señales PPG (IR y RED). A diferencia de una fórmula empírica lineal, aquí se emplean datos reales etiquetados para aprender una correspondencia directa entre ratio y SpO₂, basada en observaciones.\n",
    "\n",
    "### Flujo del algoritmo:\n",
    "\n",
    "1. **Carga de señales**\n",
    "   - Se recorren múltiples archivos .csv que contienen señales corregidas por luz ambiente (IR - AMB_IR y RED - AMB_RED).\n",
    "   - Se descartan registros con valores no válidos (por ejemplo, si las componentes AC o DC son nulas).\n",
    "\n",
    "2. **Cálculo del ratio óptico**\n",
    "   - Para cada archivo, se calcula el ratio clásico.\n",
    "   - Se multiplica por 100 y se redondea para usarlo como índice en una tabla.\n",
    "\n",
    "3. **Construcción de la tabla SpO₂**\n",
    "   - Se agrupan los valores de SpO₂ reales (extraídos del nombre del archivo) por cada índice de ratio.\n",
    "   - Se calcula el promedio de SpO₂ para cada índice.\n",
    "   - Se rellenan los huecos mediante interpolación lineal para asegurar una tabla continua.\n",
    "\n",
    "4. **Visualización de la tabla LUT**\n",
    "   - Se representa gráficamente la relación ratio → SpO₂ basada en datos reales, diferenciando los puntos interpolados de los valores medidos.\n",
    "\n",
    "5. **Estimación de SpO₂ a partir de la tabla**\n",
    "   - Se aplica la LUT a cada archivo y se imprime el valor estimado de SpO₂ para su ratio correspondiente.\n",
    "\n",
    "6. **Visualización adicional**\n",
    "   - Se muestra una ventana de 10 segundos de una señal corregida IR, para observar su comportamiento morfológico."
   ]
  },
  {
   "cell_type": "code",
   "execution_count": 1,
   "metadata": {},
   "outputs": [
    {
     "data": {
      "image/png": "[encoded data removed]",
      "text/plain": [
       "<Figure size 720x360 with 1 Axes>"
      ]
     },
     "metadata": {
      "needs_background": "light"
     },
     "output_type": "display_data"
    }
   ],
   "source": [
    "import pandas as pd\n",
    "import os\n",
    "import re\n",
    "import numpy as np\n",
    "from collections import defaultdict\n",
    "import matplotlib.pyplot as plt\n",
    "from scipy.interpolate import interp1d\n",
    "\n",
    "ruta = \"C:/Users/Elena/Desktop/GitHub/TFG-Elena-Ruiz/Datos/Procesados\"\n",
    "archivos = [f for f in os.listdir(ruta) if f.endswith(\".csv\")]\n",
    "\n",
    "ratios_dict = defaultdict(list)\n",
    "\n",
    "for archivo in archivos:\n",
    "    match = re.search(r'(\\d+)_\\d+\\.csv', archivo)  # Extrae el SpO2 externo\n",
    "    if match:\n",
    "        spo2_ext = int(match.group(1))\n",
    "        try:\n",
    "            df = pd.read_csv(os.path.join(ruta, archivo))\n",
    "            ir = df[\"IR\"] - df[\"AMB_IR\"]\n",
    "            red = df[\"RED\"] - df[\"AMB_RED\"]\n",
    "\n",
    "            ac_ir = ir.max() - ir.min()\n",
    "            dc_ir = ir.mean()\n",
    "            ac_red = red.max() - red.min()\n",
    "            dc_red = red.mean()\n",
    "\n",
    "            if all(val > 0 for val in [ac_ir, dc_ir, ac_red, dc_red]):\n",
    "                ratio = (ac_red / dc_red) / (ac_ir / dc_ir)\n",
    "                index = int(ratio * 100)\n",
    "                if 0 <= index < 184:\n",
    "                    ratios_dict[index].append(spo2_ext)\n",
    "        except Exception as e:\n",
    "            print(f\"{archivo}: ERROR {e}\")\n",
    "\n",
    "# Crear tabla a partir del promedio por índice\n",
    "tabla_spo2 = [0] * 184\n",
    "for idx in range(184):\n",
    "    if ratios_dict[idx]:\n",
    "        tabla_spo2[idx] = int(np.mean(ratios_dict[idx]))\n",
    "\n",
    "# Interpolación para rellenar huecos\n",
    "x_known = [i for i, val in enumerate(tabla_spo2) if val > 0]\n",
    "y_known = [val for val in tabla_spo2 if val > 0]\n",
    "\n",
    "interp_func = interp1d(x_known, y_known, kind='linear', fill_value=\"extrapolate\")\n",
    "tabla_spo2_interp = [int(np.clip(interp_func(i), 70, 100)) for i in range(184)]\n",
    "\n",
    "# Visualizar la tabla construida\n",
    "plt.figure(figsize=(10, 5))\n",
    "plt.plot(tabla_spo2_interp, label=\"Interpolada\")\n",
    "plt.scatter(x_known, y_known, color='red', label=\"Datos reales\")\n",
    "plt.xlabel(\"Índice (ratio R * 100)\")\n",
    "plt.ylabel(\"SpO₂ (%)\")\n",
    "plt.title(\"Tabla uch_spo2_table construida a partir de tus datos\")\n",
    "plt.grid(True)\n",
    "plt.legend()\n",
    "plt.show()\n"
   ]
  },
  {
   "cell_type": "code",
   "execution_count": 2,
   "metadata": {},
   "outputs": [
    {
     "name": "stdout",
     "output_type": "stream",
     "text": [
      "\n",
      "--- Estimación de SpO₂ usando tabla propia ---\n",
      "\n",
      "raw_data_91_91.csv                       → R = 0.534 → SpO₂ estimado = 91%\n",
      "raw_data_92_76.csv                       → R = 11.015 → SpO₂ estimado = 94%\n",
      "raw_data_93_100.csv                      → Señal no válida\n",
      "raw_data_95_77_2.csv                     → R = 0.811 → SpO₂ estimado = 77%\n",
      "raw_data_95_80.csv                       → R = 2.246 → SpO₂ estimado = 94%\n",
      "raw_data_95_81_papa.csv                  → R = 0.626 → SpO₂ estimado = 86%\n",
      "raw_data_95_99.csv                       → R = 1.770 → SpO₂ estimado = 95%\n",
      "raw_data_96_69.csv                       → R = 0.895 → SpO₂ estimado = 96%\n",
      "raw_data_96_81.csv                       → R = 6.181 → SpO₂ estimado = 94%\n",
      "raw_data_97_95.csv                       → R = 41.106 → SpO₂ estimado = 94%\n",
      "raw_data_98_81.csv                       → R = 4.006 → SpO₂ estimado = 94%\n",
      "raw_data_98_86.csv                       → Señal no válida\n",
      "raw_data_99_73.csv                       → R = 1.026 → SpO₂ estimado = 99%\n",
      "raw_data_99_75.csv                       → R = 2.311 → SpO₂ estimado = 94%\n",
      "raw_data_99_91.csv                       → R = 1.311 → SpO₂ estimado = 99%\n"
     ]
    }
   ],
   "source": [
    "def estimar_spo2(ratio, tabla):\n",
    "    index = int(ratio * 100)\n",
    "    index = np.clip(index, 0, len(tabla) - 1)\n",
    "    return tabla[index]\n",
    "\n",
    "print(\"\\n--- Estimación de SpO₂ usando tabla propia ---\\n\")\n",
    "for archivo in archivos:\n",
    "    try:\n",
    "        df = pd.read_csv(os.path.join(ruta, archivo))\n",
    "        ir = df[\"IR\"] - df[\"AMB_IR\"]\n",
    "        red = df[\"RED\"] - df[\"AMB_RED\"]\n",
    "\n",
    "        ac_ir = ir.max() - ir.min()\n",
    "        dc_ir = ir.mean()\n",
    "        ac_red = red.max() - red.min()\n",
    "        dc_red = red.mean()\n",
    "\n",
    "        if all(val > 0 for val in [ac_ir, dc_ir, ac_red, dc_red]):\n",
    "            ratio = (ac_red / dc_red) / (ac_ir / dc_ir)\n",
    "            spo2_estimado = estimar_spo2(ratio, tabla_spo2_interp)\n",
    "            print(f\"{archivo:40s} → R = {ratio:.3f} → SpO₂ estimado = {spo2_estimado}%\")\n",
    "        else:\n",
    "            print(f\"{archivo:40s} → Señal no válida\")\n",
    "    except Exception as e:\n",
    "        print(f\"{archivo:40s} → ERROR: {e}\")\n"
   ]
  },
  {
   "cell_type": "code",
   "execution_count": 3,
   "metadata": {},
   "outputs": [
    {
     "ename": "FileNotFoundError",
     "evalue": "[Errno 2] No such file or directory: '/mnt/data/raw_data_95_77_2.csv'",
     "output_type": "error",
     "traceback": [
      "\u001b[1;31m---------------------------------------------------------------------------\u001b[0m",
      "\u001b[1;31mFileNotFoundError\u001b[0m                         Traceback (most recent call last)",
      "\u001b[1;32m<ipython-input-3-954d5dba8595>\u001b[0m in \u001b[0;36m<module>\u001b[1;34m\u001b[0m\n\u001b[0;32m      1\u001b[0m \u001b[1;31m# Cargar el archivo CSV\u001b[0m\u001b[1;33m\u001b[0m\u001b[1;33m\u001b[0m\u001b[1;33m\u001b[0m\u001b[0m\n\u001b[1;32m----> 2\u001b[1;33m \u001b[0mdf\u001b[0m \u001b[1;33m=\u001b[0m \u001b[0mpd\u001b[0m\u001b[1;33m.\u001b[0m\u001b[0mread_csv\u001b[0m\u001b[1;33m(\u001b[0m\u001b[1;34m\"/mnt/data/raw_data_95_77_2.csv\"\u001b[0m\u001b[1;33m)\u001b[0m\u001b[1;33m\u001b[0m\u001b[1;33m\u001b[0m\u001b[0m\n\u001b[0m\u001b[0;32m      3\u001b[0m \u001b[1;33m\u001b[0m\u001b[0m\n\u001b[0;32m      4\u001b[0m \u001b[1;31m# Corregimos por luz ambiental\u001b[0m\u001b[1;33m\u001b[0m\u001b[1;33m\u001b[0m\u001b[1;33m\u001b[0m\u001b[0m\n\u001b[0;32m      5\u001b[0m \u001b[0mdf\u001b[0m\u001b[1;33m[\u001b[0m\u001b[1;34m\"IR_corr\"\u001b[0m\u001b[1;33m]\u001b[0m \u001b[1;33m=\u001b[0m \u001b[0mdf\u001b[0m\u001b[1;33m[\u001b[0m\u001b[1;34m\"IR\"\u001b[0m\u001b[1;33m]\u001b[0m \u001b[1;33m-\u001b[0m \u001b[0mdf\u001b[0m\u001b[1;33m[\u001b[0m\u001b[1;34m\"AMB_IR\"\u001b[0m\u001b[1;33m]\u001b[0m\u001b[1;33m\u001b[0m\u001b[1;33m\u001b[0m\u001b[0m\n",
      "\u001b[1;32m~\\anaconda3\\lib\\site-packages\\pandas\\io\\parsers.py\u001b[0m in \u001b[0;36mread_csv\u001b[1;34m(filepath_or_buffer, sep, delimiter, header, names, index_col, usecols, squeeze, prefix, mangle_dupe_cols, dtype, engine, converters, true_values, false_values, skipinitialspace, skiprows, skipfooter, nrows, na_values, keep_default_na, na_filter, verbose, skip_blank_lines, parse_dates, infer_datetime_format, keep_date_col, date_parser, dayfirst, cache_dates, iterator, chunksize, compression, thousands, decimal, lineterminator, quotechar, quoting, doublequote, escapechar, comment, encoding, dialect, error_bad_lines, warn_bad_lines, delim_whitespace, low_memory, memory_map, float_precision)\u001b[0m\n\u001b[0;32m    684\u001b[0m     )\n\u001b[0;32m    685\u001b[0m \u001b[1;33m\u001b[0m\u001b[0m\n\u001b[1;32m--> 686\u001b[1;33m     \u001b[1;32mreturn\u001b[0m \u001b[0m_read\u001b[0m\u001b[1;33m(\u001b[0m\u001b[0mfilepath_or_buffer\u001b[0m\u001b[1;33m,\u001b[0m \u001b[0mkwds\u001b[0m\u001b[1;33m)\u001b[0m\u001b[1;33m\u001b[0m\u001b[1;33m\u001b[0m\u001b[0m\n\u001b[0m\u001b[0;32m    687\u001b[0m \u001b[1;33m\u001b[0m\u001b[0m\n\u001b[0;32m    688\u001b[0m \u001b[1;33m\u001b[0m\u001b[0m\n",
      "\u001b[1;32m~\\anaconda3\\lib\\site-packages\\pandas\\io\\parsers.py\u001b[0m in \u001b[0;36m_read\u001b[1;34m(filepath_or_buffer, kwds)\u001b[0m\n\u001b[0;32m    450\u001b[0m \u001b[1;33m\u001b[0m\u001b[0m\n\u001b[0;32m    451\u001b[0m     \u001b[1;31m# Create the parser.\u001b[0m\u001b[1;33m\u001b[0m\u001b[1;33m\u001b[0m\u001b[1;33m\u001b[0m\u001b[0m\n\u001b[1;32m--> 452\u001b[1;33m     \u001b[0mparser\u001b[0m \u001b[1;33m=\u001b[0m \u001b[0mTextFileReader\u001b[0m\u001b[1;33m(\u001b[0m\u001b[0mfp_or_buf\u001b[0m\u001b[1;33m,\u001b[0m \u001b[1;33m**\u001b[0m\u001b[0mkwds\u001b[0m\u001b[1;33m)\u001b[0m\u001b[1;33m\u001b[0m\u001b[1;33m\u001b[0m\u001b[0m\n\u001b[0m\u001b[0;32m    453\u001b[0m \u001b[1;33m\u001b[0m\u001b[0m\n\u001b[0;32m    454\u001b[0m     \u001b[1;32mif\u001b[0m \u001b[0mchunksize\u001b[0m \u001b[1;32mor\u001b[0m \u001b[0miterator\u001b[0m\u001b[1;33m:\u001b[0m\u001b[1;33m\u001b[0m\u001b[1;33m\u001b[0m\u001b[0m\n",
      "\u001b[1;32m~\\anaconda3\\lib\\site-packages\\pandas\\io\\parsers.py\u001b[0m in \u001b[0;36m__init__\u001b[1;34m(self, f, engine, **kwds)\u001b[0m\n\u001b[0;32m    944\u001b[0m             \u001b[0mself\u001b[0m\u001b[1;33m.\u001b[0m\u001b[0moptions\u001b[0m\u001b[1;33m[\u001b[0m\u001b[1;34m\"has_index_names\"\u001b[0m\u001b[1;33m]\u001b[0m \u001b[1;33m=\u001b[0m \u001b[0mkwds\u001b[0m\u001b[1;33m[\u001b[0m\u001b[1;34m\"has_index_names\"\u001b[0m\u001b[1;33m]\u001b[0m\u001b[1;33m\u001b[0m\u001b[1;33m\u001b[0m\u001b[0m\n\u001b[0;32m    945\u001b[0m \u001b[1;33m\u001b[0m\u001b[0m\n\u001b[1;32m--> 946\u001b[1;33m         \u001b[0mself\u001b[0m\u001b[1;33m.\u001b[0m\u001b[0m_make_engine\u001b[0m\u001b[1;33m(\u001b[0m\u001b[0mself\u001b[0m\u001b[1;33m.\u001b[0m\u001b[0mengine\u001b[0m\u001b[1;33m)\u001b[0m\u001b[1;33m\u001b[0m\u001b[1;33m\u001b[0m\u001b[0m\n\u001b[0m\u001b[0;32m    947\u001b[0m \u001b[1;33m\u001b[0m\u001b[0m\n\u001b[0;32m    948\u001b[0m     \u001b[1;32mdef\u001b[0m \u001b[0mclose\u001b[0m\u001b[1;33m(\u001b[0m\u001b[0mself\u001b[0m\u001b[1;33m)\u001b[0m\u001b[1;33m:\u001b[0m\u001b[1;33m\u001b[0m\u001b[1;33m\u001b[0m\u001b[0m\n",
      "\u001b[1;32m~\\anaconda3\\lib\\site-packages\\pandas\\io\\parsers.py\u001b[0m in \u001b[0;36m_make_engine\u001b[1;34m(self, engine)\u001b[0m\n\u001b[0;32m   1176\u001b[0m     \u001b[1;32mdef\u001b[0m \u001b[0m_make_engine\u001b[0m\u001b[1;33m(\u001b[0m\u001b[0mself\u001b[0m\u001b[1;33m,\u001b[0m \u001b[0mengine\u001b[0m\u001b[1;33m=\u001b[0m\u001b[1;34m\"c\"\u001b[0m\u001b[1;33m)\u001b[0m\u001b[1;33m:\u001b[0m\u001b[1;33m\u001b[0m\u001b[1;33m\u001b[0m\u001b[0m\n\u001b[0;32m   1177\u001b[0m         \u001b[1;32mif\u001b[0m \u001b[0mengine\u001b[0m \u001b[1;33m==\u001b[0m \u001b[1;34m\"c\"\u001b[0m\u001b[1;33m:\u001b[0m\u001b[1;33m\u001b[0m\u001b[1;33m\u001b[0m\u001b[0m\n\u001b[1;32m-> 1178\u001b[1;33m             \u001b[0mself\u001b[0m\u001b[1;33m.\u001b[0m\u001b[0m_engine\u001b[0m \u001b[1;33m=\u001b[0m \u001b[0mCParserWrapper\u001b[0m\u001b[1;33m(\u001b[0m\u001b[0mself\u001b[0m\u001b[1;33m.\u001b[0m\u001b[0mf\u001b[0m\u001b[1;33m,\u001b[0m \u001b[1;33m**\u001b[0m\u001b[0mself\u001b[0m\u001b[1;33m.\u001b[0m\u001b[0moptions\u001b[0m\u001b[1;33m)\u001b[0m\u001b[1;33m\u001b[0m\u001b[1;33m\u001b[0m\u001b[0m\n\u001b[0m\u001b[0;32m   1179\u001b[0m         \u001b[1;32melse\u001b[0m\u001b[1;33m:\u001b[0m\u001b[1;33m\u001b[0m\u001b[1;33m\u001b[0m\u001b[0m\n\u001b[0;32m   1180\u001b[0m             \u001b[1;32mif\u001b[0m \u001b[0mengine\u001b[0m \u001b[1;33m==\u001b[0m \u001b[1;34m\"python\"\u001b[0m\u001b[1;33m:\u001b[0m\u001b[1;33m\u001b[0m\u001b[1;33m\u001b[0m\u001b[0m\n",
      "\u001b[1;32m~\\anaconda3\\lib\\site-packages\\pandas\\io\\parsers.py\u001b[0m in \u001b[0;36m__init__\u001b[1;34m(self, src, **kwds)\u001b[0m\n\u001b[0;32m   2006\u001b[0m         \u001b[0mkwds\u001b[0m\u001b[1;33m[\u001b[0m\u001b[1;34m\"usecols\"\u001b[0m\u001b[1;33m]\u001b[0m \u001b[1;33m=\u001b[0m \u001b[0mself\u001b[0m\u001b[1;33m.\u001b[0m\u001b[0musecols\u001b[0m\u001b[1;33m\u001b[0m\u001b[1;33m\u001b[0m\u001b[0m\n\u001b[0;32m   2007\u001b[0m \u001b[1;33m\u001b[0m\u001b[0m\n\u001b[1;32m-> 2008\u001b[1;33m         \u001b[0mself\u001b[0m\u001b[1;33m.\u001b[0m\u001b[0m_reader\u001b[0m \u001b[1;33m=\u001b[0m \u001b[0mparsers\u001b[0m\u001b[1;33m.\u001b[0m\u001b[0mTextReader\u001b[0m\u001b[1;33m(\u001b[0m\u001b[0msrc\u001b[0m\u001b[1;33m,\u001b[0m \u001b[1;33m**\u001b[0m\u001b[0mkwds\u001b[0m\u001b[1;33m)\u001b[0m\u001b[1;33m\u001b[0m\u001b[1;33m\u001b[0m\u001b[0m\n\u001b[0m\u001b[0;32m   2009\u001b[0m         \u001b[0mself\u001b[0m\u001b[1;33m.\u001b[0m\u001b[0munnamed_cols\u001b[0m \u001b[1;33m=\u001b[0m \u001b[0mself\u001b[0m\u001b[1;33m.\u001b[0m\u001b[0m_reader\u001b[0m\u001b[1;33m.\u001b[0m\u001b[0munnamed_cols\u001b[0m\u001b[1;33m\u001b[0m\u001b[1;33m\u001b[0m\u001b[0m\n\u001b[0;32m   2010\u001b[0m \u001b[1;33m\u001b[0m\u001b[0m\n",
      "\u001b[1;32mpandas\\_libs\\parsers.pyx\u001b[0m in \u001b[0;36mpandas._libs.parsers.TextReader.__cinit__\u001b[1;34m()\u001b[0m\n",
      "\u001b[1;32mpandas\\_libs\\parsers.pyx\u001b[0m in \u001b[0;36mpandas._libs.parsers.TextReader._setup_parser_source\u001b[1;34m()\u001b[0m\n",
      "\u001b[1;31mFileNotFoundError\u001b[0m: [Errno 2] No such file or directory: '/mnt/data/raw_data_95_77_2.csv'"
     ]
    }
   ],
   "source": [
    "# Cargar el archivo CSV\n",
    "df = pd.read_csv(\"/mnt/data/raw_data_95_77_2.csv\")\n",
    "\n",
    "# Corregimos por luz ambiental\n",
    "df[\"IR_corr\"] = df[\"IR\"] - df[\"AMB_IR\"]\n",
    "\n",
    "# Convertir tiempo a segundos\n",
    "df[\"Tiempo_s\"] = df[\"Tiempo (ms)\"] / 1000\n",
    "\n",
    "# Recorte de una ventana de 10 segundos para mejor visualización\n",
    "# Suponiendo que la frecuencia de muestreo es de 60 Hz\n",
    "ventana_segundos = 10\n",
    "fs = 60\n",
    "n_muestras = ventana_segundos * fs\n",
    "df_recorte = df.iloc[:n_muestras]\n",
    "\n",
    "# Graficar solo esa ventana\n",
    "import matplotlib.pyplot as plt\n",
    "\n",
    "plt.figure(figsize=(12, 4))\n",
    "plt.plot(df_recorte[\"Tiempo_s\"], df_recorte[\"IR_corr\"], label=\"IR corregido\")\n",
    "plt.title(\"Señal PPG (IR corregido) - Ventana de 10 segundos\")\n",
    "plt.xlabel(\"Tiempo (s)\")\n",
    "plt.ylabel(\"Intensidad\")\n",
    "plt.grid(True)\n",
    "plt.legend()\n",
    "plt.tight_layout()\n",
    "plt.show()\n"
   ]
  },
  {
   "cell_type": "code",
   "execution_count": null,
   "metadata": {},
   "outputs": [],
   "source": []
  }
 ],
 "metadata": {
  "kernelspec": {
   "display_name": "Python 3",
   "language": "python",
   "name": "python3"
  },
  "language_info": {
   "codemirror_mode": {
    "name": "ipython",
    "version": 3
   },
   "file_extension": ".py",
   "mimetype": "text/x-python",
   "name": "python",
   "nbconvert_exporter": "python",
   "pygments_lexer": "ipython3",
   "version": "3.8.5"
  }
 },
 "nbformat": 4,
 "nbformat_minor": 4
}
