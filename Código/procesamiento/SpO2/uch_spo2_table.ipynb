{
 "cells": [
  {
   "cell_type": "markdown",
   "metadata": {},
   "source": [
    "## Generación personalizada de una tabla LUT para estimación de SpO₂\n",
    "\n",
    "Este notebook construye una tabla de búsqueda (LUT, Look-Up Table) personalizada para estimar la saturación de oxígeno (SpO₂) en función del ratio óptico \\( R \\) calculado a partir de señales PPG (IR y RED). A diferencia de una fórmula empírica lineal, aquí se emplean datos reales etiquetados para aprender una correspondencia directa entre ratio y SpO₂, basada en observaciones.\n",
    "\n",
    "### Flujo del algoritmo:\n",
    "\n",
    "1. **Carga de señales**\n",
    "   - Se recorren múltiples archivos .csv que contienen señales corregidas por luz ambiente (IR - AMB_IR y RED - AMB_RED).\n",
    "   - Se descartan registros con valores no válidos (por ejemplo, si las componentes AC o DC son nulas).\n",
    "\n",
    "2. **Cálculo del ratio óptico**\n",
    "   - Para cada archivo, se calcula el ratio clásico.\n",
    "   - Se multiplica por 100 y se redondea para usarlo como índice en una tabla.\n",
    "\n",
    "3. **Construcción de la tabla SpO2**\n",
    "   - Se agrupan los valores de SpO2 reales (extraídos del nombre del archivo) por cada índice de ratio.\n",
    "   - Se calcula el promedio de SpO2 para cada índice.\n",
    "   - Se rellenan los huecos mediante interpolación lineal para asegurar una tabla continua.\n",
    "\n",
    "4. **Visualización de la tabla LUT**\n",
    "   - Se representa gráficamente la relación ratio → SpO2 basada en datos reales, diferenciando los puntos interpolados de los valores medidos.\n",
    "\n",
    "5. **Estimación de SpO2 a partir de la tabla**\n",
    "   - Se aplica la LUT a cada archivo y se imprime el valor estimado de SpO2 para su ratio correspondiente.\n",
    "\n",
    "6. **Visualización adicional**\n",
    "   - Se muestra una ventana de 10 segundos de una señal corregida IR, para observar su comportamiento morfológico."
   ]
  },
  {
   "cell_type": "code",
   "execution_count": 1,
   "metadata": {},
   "outputs": [
    {
     "data": {
      "image/png": "[encoded data removed]",
      "text/plain": [
       "<Figure size 720x360 with 1 Axes>"
      ]
     },
     "metadata": {
      "needs_background": "light"
     },
     "output_type": "display_data"
    }
   ],
   "source": [
    "import pandas as pd\n",
    "import os\n",
    "import re\n",
    "import numpy as np\n",
    "from collections import defaultdict\n",
    "import matplotlib.pyplot as plt\n",
    "from scipy.interpolate import interp1d\n",
    "\n",
    "ruta = \"C:/Users/Elena/Desktop/GitHub/TFG-Elena-Ruiz/Datos/Datos_limpios\"\n",
    "archivos = [f for f in os.listdir(ruta) if f.endswith(\".csv\")]\n",
    "\n",
    "ratios_dict = defaultdict(list)\n",
    "\n",
    "for archivo in archivos:\n",
    "    match = re.search(r'(\\d+)_\\d+\\.csv', archivo)  # Extrae el SpO2 externo\n",
    "    if match:\n",
    "        spo2_ext = int(match.group(1))\n",
    "        try:\n",
    "            df = pd.read_csv(os.path.join(ruta, archivo))\n",
    "            ir = df[\"IR\"] - df[\"AMB_IR\"]\n",
    "            red = df[\"RED\"] - df[\"AMB_RED\"]\n",
    "\n",
    "            ac_ir = ir.max() - ir.min()\n",
    "            dc_ir = ir.mean()\n",
    "            ac_red = red.max() - red.min()\n",
    "            dc_red = red.mean()\n",
    "\n",
    "            if all(val > 0 for val in [ac_ir, dc_ir, ac_red, dc_red]):\n",
    "                ratio = (ac_red / dc_red) / (ac_ir / dc_ir)\n",
    "                index = int(ratio * 100)\n",
    "                if 0 <= index < 184:\n",
    "                    ratios_dict[index].append(spo2_ext)\n",
    "        except Exception as e:\n",
    "            print(f\"{archivo}: ERROR {e}\")\n",
    "\n",
    "# Crear tabla a partir del promedio por índice\n",
    "tabla_spo2 = [0] * 184\n",
    "for idx in range(184):\n",
    "    if ratios_dict[idx]:\n",
    "        tabla_spo2[idx] = int(np.mean(ratios_dict[idx]))\n",
    "\n",
    "# Interpolación para rellenar huecos\n",
    "x_known = [i for i, val in enumerate(tabla_spo2) if val > 0]\n",
    "y_known = [val for val in tabla_spo2 if val > 0]\n",
    "\n",
    "interp_func = interp1d(x_known, y_known, kind='linear', fill_value=\"extrapolate\")\n",
    "tabla_spo2_interp = [int(np.clip(interp_func(i), 70, 100)) for i in range(184)]\n",
    "\n",
    "# Visualizar la tabla construida\n",
    "plt.figure(figsize=(10, 5))\n",
    "plt.plot(tabla_spo2_interp, label=\"Interpolada\")\n",
    "plt.scatter(x_known, y_known, color='red', label=\"Datos reales\")\n",
    "plt.xlabel(\"Índice (ratio R * 100)\")\n",
    "plt.ylabel(\"SpO₂ (%)\")\n",
    "plt.title(\"Tabla uch_spo2_table construida a partir de nuestros datos\")\n",
    "plt.grid(True)\n",
    "plt.legend()\n",
    "plt.show()\n"
   ]
  },
  {
   "cell_type": "code",
   "execution_count": 5,
   "metadata": {},
   "outputs": [
    {
     "name": "stdout",
     "output_type": "stream",
     "text": [
      "\n",
      "--- Estimación de SpO₂ usando tabla propia ---\n",
      "\n",
      "raw_data_91_91.csv                       → R = 0.117 → SpO₂ estimado = 91%\n",
      "raw_data_92_76.csv                       → R = 11.906 → SpO₂ estimado = 93%\n",
      "raw_data_93_100.csv                      → Señal no válida\n",
      "raw_data_95_77_2.csv                     → R = 0.816 → SpO₂ estimado = 77%\n",
      "raw_data_95_80.csv                       → R = 2.604 → SpO₂ estimado = 93%\n",
      "raw_data_95_81_papa.csv                  → R = 0.538 → SpO₂ estimado = 95%\n",
      "raw_data_95_99.csv                       → R = 1.826 → SpO₂ estimado = 95%\n",
      "raw_data_96_106.csv                      → R = 0.957 → SpO₂ estimado = 96%\n",
      "raw_data_96_69.csv                       → R = 0.912 → SpO₂ estimado = 96%\n",
      "raw_data_97_119.csv                      → R = 0.695 → SpO₂ estimado = 97%\n",
      "raw_data_97_95.csv                       → R = 16.143 → SpO₂ estimado = 93%\n",
      "raw_data_98_81.csv                       → R = 4.252 → SpO₂ estimado = 93%\n",
      "raw_data_98_86.csv                       → Señal no válida\n",
      "raw_data_98_91.csv                       → R = 1.287 → SpO₂ estimado = 98%\n",
      "raw_data_99_75.csv                       → R = 2.312 → SpO₂ estimado = 93%\n",
      "raw_data_99_91.csv                       → R = 1.805 → SpO₂ estimado = 99%\n"
     ]
    }
   ],
   "source": [
    "def estimar_spo2(ratio, tabla):\n",
    "    index = int(ratio * 100)\n",
    "    index = np.clip(index, 0, len(tabla) - 1)\n",
    "    return tabla[index]\n",
    "\n",
    "print(\"\\n--- Estimación de SpO₂ usando tabla propia ---\\n\")\n",
    "for archivo in archivos:\n",
    "    try:\n",
    "        df = pd.read_csv(os.path.join(ruta, archivo))\n",
    "        ir = df[\"IR\"] - df[\"AMB_IR\"]\n",
    "        red = df[\"RED\"] - df[\"AMB_RED\"]\n",
    "\n",
    "        ac_ir = ir.max() - ir.min()\n",
    "        dc_ir = ir.mean()\n",
    "        ac_red = red.max() - red.min()\n",
    "        dc_red = red.mean()\n",
    "\n",
    "        if all(val > 0 for val in [ac_ir, dc_ir, ac_red, dc_red]):\n",
    "            ratio = (ac_red / dc_red) / (ac_ir / dc_ir)\n",
    "            spo2_estimado = estimar_spo2(ratio, tabla_spo2_interp)\n",
    "            print(f\"{archivo:40s} → R = {ratio:.3f} → SpO₂ estimado = {spo2_estimado}%\")\n",
    "        else:\n",
    "            print(f\"{archivo:40s} → Señal no válida\")\n",
    "    except Exception as e:\n",
    "        print(f\"{archivo:40s} → ERROR: {e}\")\n"
   ]
  },
  {
   "cell_type": "code",
   "execution_count": null,
   "metadata": {},
   "outputs": [],
   "source": []
  }
 ],
 "metadata": {
  "kernelspec": {
   "display_name": "Python 3",
   "language": "python",
   "name": "python3"
  },
  "language_info": {
   "codemirror_mode": {
    "name": "ipython",
    "version": 3
   },
   "file_extension": ".py",
   "mimetype": "text/x-python",
   "name": "python",
   "nbconvert_exporter": "python",
   "pygments_lexer": "ipython3",
   "version": "3.8.5"
  }
 },
 "nbformat": 4,
 "nbformat_minor": 4
}
