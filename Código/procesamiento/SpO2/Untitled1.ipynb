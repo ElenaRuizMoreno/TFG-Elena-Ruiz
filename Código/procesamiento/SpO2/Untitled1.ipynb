{
 "cells": [
  {
   "cell_type": "code",
   "execution_count": 4,
   "metadata": {},
   "outputs": [
    {
     "name": "stdout",
     "output_type": "stream",
     "text": [
      "¡Todos los archivos han sido actualizados con comas como separador!\n"
     ]
    }
   ],
   "source": [
    "import os\n",
    "\n",
    "# Ruta a la carpeta con tus CSVs\n",
    "carpeta = r'C:\\Users\\Elena\\Desktop\\GitHub\\TFG-Elena-Ruiz\\Datos\\Datos crudos\\save_log\\señales no válidadas'\n",
    "\n",
    "for archivo in os.listdir(carpeta):\n",
    "    if archivo.endswith(\".csv\"):\n",
    "        ruta = os.path.join(carpeta, archivo)\n",
    "        with open(ruta, 'r', encoding='utf-8') as f:\n",
    "            contenido = f.read().replace(';', ',')\n",
    "        with open(ruta, 'w', encoding='utf-8') as f:\n",
    "            f.write(contenido)\n",
    "\n",
    "print(\"¡Todos los archivos han sido actualizados con comas como separador!\")\n"
   ]
  },
  {
   "cell_type": "code",
   "execution_count": null,
   "metadata": {},
   "outputs": [],
   "source": []
  }
 ],
 "metadata": {
  "kernelspec": {
   "display_name": "Python 3",
   "language": "python",
   "name": "python3"
  },
  "language_info": {
   "codemirror_mode": {
    "name": "ipython",
    "version": 3
   },
   "file_extension": ".py",
   "mimetype": "text/x-python",
   "name": "python",
   "nbconvert_exporter": "python",
   "pygments_lexer": "ipython3",
   "version": "3.8.5"
  }
 },
 "nbformat": 4,
 "nbformat_minor": 4
}
