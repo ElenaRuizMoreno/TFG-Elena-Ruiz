{
 "cells": [
  {
   "cell_type": "markdown",
   "metadata": {},
   "source": [
    "# Lectura de datos crudos y tratamiento"
   ]
  },
  {
   "cell_type": "markdown",
   "metadata": {},
   "source": [
    "## Importar librerías"
   ]
  },
  {
   "cell_type": "code",
   "execution_count": 2,
   "metadata": {},
   "outputs": [],
   "source": [
    "import pandas as pd\n",
    "import numpy as np\n",
    "import os\n",
    "import glob\n",
    "import re\n",
    "import matplotlib.pyplot as plt\n",
    "from scipy.signal import find_peaks, butter, filtfilt"
   ]
  },
  {
   "cell_type": "markdown",
   "metadata": {},
   "source": [
    "**1. Cargar los datos desde el CSV**\n",
    "\n",
    "- Leer los datos crudos (IR, Red, ambiente) del archivo CSV.\n",
    "- Convertir la columna de tiempo a milisegundos para análisis de frecuencia.\n",
    "\n",
    "**2. Filtrar la señal (opcional pero recomendable)**\n",
    "\n",
    "- Aplicar un filtro pasaaltos para eliminar el componente de corriente continua (DC).\n",
    "- Aplicar un filtro pasabajos para eliminar ruido de alta frecuencia.\n",
    "\n",
    "**3. Detectar picos en la señal de la LED roja (usualmente más fiable que la IR para frecuencia cardíaca)**\n",
    "\n",
    "- Usar scipy.signal.find_peaks() para detectar los máximos de la onda pulsátil.\n",
    "- Calcular el tiempo entre picos sucesivos para obtener el periodo de los latidos.\n",
    "\n",
    "**4. Calcular la frecuencia cardíaca (BPM)**\n",
    "\n",
    "Usar la fórmula:"
   ]
  },
  {
   "attachments": {
    "image.png": {
     "image/png": "[encoded data removed]"
    }
   },
   "cell_type": "markdown",
   "metadata": {},
   "source": [
    "![image.png](attachment:image.png)"
   ]
  },
  {
   "cell_type": "code",
   "execution_count": 4,
   "metadata": {},
   "outputs": [
    {
     "name": "stdout",
     "output_type": "stream",
     "text": [
      "                         Saturación (%)  Pulso (BPM)\n",
      "raw_data_91_91.csv                   91           91\n",
      "raw_data_92_76.csv                   92           76\n",
      "raw_data_93_100.csv                  93          100\n",
      "raw_data_95_77_2.csv                 95           77\n",
      "raw_data_95_80.csv                   95           80\n",
      "raw_data_95_81_papa.csv              95           81\n",
      "raw_data_95_99.csv                   95           99\n",
      "raw_data_96_106.csv                  96          106\n",
      "raw_data_96_69.csv                   96           69\n",
      "raw_data_97_119.csv                  97          119\n",
      "raw_data_97_95.csv                   97           95\n",
      "raw_data_98_81.csv                   98           81\n",
      "raw_data_98_86.csv                   98           86\n",
      "raw_data_98_91.csv                   98           91\n",
      "raw_data_99_75.csv                   99           75\n",
      "raw_data_99_91.csv                   99           91\n"
     ]
    }
   ],
   "source": [
    "# Extraer el valor real de SpO2 y HR del nombre del archivo (por ejemplo: 'pulsioximetro_98_72.csv')\n",
    "folder_path = r\"C:\\Users\\Elena\\Desktop\\GitHub\\TFG-Elena-Ruiz\\Datos\\Datos_limpios\"\n",
    "\n",
    "# Buscar todos los archivos CSV en la carpeta\n",
    "csv_files = glob.glob(os.path.join(folder_path, \"*.csv\"))\n",
    "\n",
    "\n",
    "datos_pulsioximetro = {}\n",
    "\n",
    "for file in csv_files:\n",
    "    filename = os.path.basename(file)  # Obtener solo el nombre del archivo\n",
    "\n",
    "    # Buscar saturación y pulso en el nombre del archivo\n",
    "    match = re.search(r\"_(\\d+)_(\\d+)\", filename)\n",
    "    if match:\n",
    "        saturacion = int(match.group(1))\n",
    "        pulso = int(match.group(2))\n",
    "        datos_pulsioximetro[filename] = {\"Saturación (%)\": saturacion, \"Pulso (BPM)\": pulso}\n",
    "\n",
    "# Convertir a un DataFrame para verlo mejor\n",
    "df_resultados = pd.DataFrame.from_dict(datos_pulsioximetro, orient=\"index\")\n",
    "\n",
    "# Mostrar resultados\n",
    "print(df_resultados)\n",
    "\n",
    "\n"
   ]
  },
  {
   "cell_type": "code",
   "execution_count": 1,
   "metadata": {
    "scrolled": false
   },
   "outputs": [
    {
     "ename": "NameError",
     "evalue": "name 'glob' is not defined",
     "output_type": "error",
     "traceback": [
      "\u001b[1;31m---------------------------------------------------------------------------\u001b[0m",
      "\u001b[1;31mNameError\u001b[0m                                 Traceback (most recent call last)",
      "\u001b[1;32m<ipython-input-1-20efe5d3f6ff>\u001b[0m in \u001b[0;36m<module>\u001b[1;34m\u001b[0m\n\u001b[0;32m      3\u001b[0m \u001b[1;33m\u001b[0m\u001b[0m\n\u001b[0;32m      4\u001b[0m \u001b[1;31m# Listar todos los archivos CSV en la carpeta\u001b[0m\u001b[1;33m\u001b[0m\u001b[1;33m\u001b[0m\u001b[1;33m\u001b[0m\u001b[0m\n\u001b[1;32m----> 5\u001b[1;33m \u001b[0mcsv_files\u001b[0m \u001b[1;33m=\u001b[0m \u001b[0mglob\u001b[0m\u001b[1;33m.\u001b[0m\u001b[0mglob\u001b[0m\u001b[1;33m(\u001b[0m\u001b[0mos\u001b[0m\u001b[1;33m.\u001b[0m\u001b[0mpath\u001b[0m\u001b[1;33m.\u001b[0m\u001b[0mjoin\u001b[0m\u001b[1;33m(\u001b[0m\u001b[0mfolder_path\u001b[0m\u001b[1;33m,\u001b[0m \u001b[1;34m\"*.csv\"\u001b[0m\u001b[1;33m)\u001b[0m\u001b[1;33m)\u001b[0m\u001b[1;33m\u001b[0m\u001b[1;33m\u001b[0m\u001b[0m\n\u001b[0m\u001b[0;32m      6\u001b[0m \u001b[1;33m\u001b[0m\u001b[0m\n\u001b[0;32m      7\u001b[0m \u001b[1;31m# Función para aplicar un filtro Butterworth pasaaltos\u001b[0m\u001b[1;33m\u001b[0m\u001b[1;33m\u001b[0m\u001b[1;33m\u001b[0m\u001b[0m\n",
      "\u001b[1;31mNameError\u001b[0m: name 'glob' is not defined"
     ]
    }
   ],
   "source": [
    "# Ruta de la carpeta con los archivos CSV\n",
    "folder_path = r\"C:\\Users\\Elena\\Desktop\\GitHub\\TFG-Elena-Ruiz\\Datos\\Datos_limpios\"\n",
    "\n",
    "# Listar todos los archivos CSV en la carpeta\n",
    "csv_files = glob.glob(os.path.join(folder_path, \"*.csv\"))\n",
    "\n",
    "# Función para aplicar un filtro Butterworth pasaaltos\n",
    "def highpass_filter(data, cutoff=0.5, fs=60, order=2):\n",
    "    nyquist = 0.5 * fs\n",
    "    normal_cutoff = cutoff / nyquist\n",
    "    b, a = butter(order, normal_cutoff, btype='high', analog=False)\n",
    "    return filtfilt(b, a, data)\n",
    "\n",
    "# Procesar cada archivo\n",
    "for file in csv_files:\n",
    "    print(f\"\\nProcesando archivo: {file}\")\n",
    "\n",
    "    # Extraer SpO2 y pulso del nombre del archivo\n",
    "    filename = os.path.basename(file)\n",
    "    match = re.search(r\"_(\\d+)_(\\d+)\", filename)\n",
    "    if match:\n",
    "        saturacion_real = int(match.group(1))\n",
    "        pulso_real = int(match.group(2))\n",
    "    else:\n",
    "        saturacion_real, pulso_real = None, None  # En caso de que el formato no coincida\n",
    "\n",
    "    # Cargar datos\n",
    "    df = pd.read_csv(file, delimiter=\";\")  # Prueba con coma\n",
    "\n",
    "\n",
    "    # Asegurar que las columnas están en el orden correcto\n",
    "    df.columns = [\"Tiempo\", \"IR\", \"IR_Amb\", \"Rojo\", \"Rojo_Amb\"]\n",
    "\n",
    "    # Filtrar la señal roja para eliminar ruido de baja frecuencia\n",
    "    df[\"Rojo_filtrado\"] = highpass_filter(df[\"Rojo\"], cutoff=0.5, fs=60, order=2)\n",
    "\n",
    "    # Detectar picos en la señal roja\n",
    "    peaks, _ = find_peaks(df[\"Rojo_filtrado\"], distance=30)  # Ajustar distancia según el muestreo\n",
    "\n",
    "    # Calcular tiempos entre picos sucesivos\n",
    "    tiempos = df[\"Tiempo\"].iloc[peaks].values\n",
    "    intervalos = np.diff(tiempos) / 1000  # Convertir de ms a segundos\n",
    "\n",
    "    # Calcular BPM si hay intervalos detectados\n",
    "    if len(intervalos) > 0:\n",
    "        bpm_estimado = 60 / np.mean(intervalos)\n",
    "    else:\n",
    "        bpm_estimado = None\n",
    "\n",
    "    # Mostrar resultados\n",
    "    print(f\"Saturación real: {saturacion_real}%\")\n",
    "    print(f\"Pulso real: {pulso_real} BPM\")\n",
    "    print(f\"Pulso estimado: {bpm_estimado:.2f} BPM\")\n",
    "\n",
    "    # Graficar señal y picos detectados\n",
    "    plt.figure(figsize=(10, 4))\n",
    "    plt.plot(df[\"Tiempo\"], df[\"Rojo_filtrado\"], label=\"Rojo Filtrado\")\n",
    "    plt.plot(df[\"Tiempo\"].iloc[peaks], df[\"Rojo_filtrado\"].iloc[peaks], \"ro\", label=\"Picos\")\n",
    "    plt.xlabel(\"Tiempo (ms)\")\n",
    "    plt.ylabel(\"Intensidad\")\n",
    "    plt.legend()\n",
    "    plt.title(f\"Detección de Picos - {filename}\")\n",
    "    plt.show()"
   ]
  },
  {
   "cell_type": "code",
   "execution_count": null,
   "metadata": {},
   "outputs": [],
   "source": []
  },
  {
   "cell_type": "code",
   "execution_count": null,
   "metadata": {},
   "outputs": [],
   "source": []
  },
  {
   "cell_type": "code",
   "execution_count": null,
   "metadata": {},
   "outputs": [],
   "source": []
  },
  {
   "cell_type": "code",
   "execution_count": 1,
   "metadata": {
    "scrolled": false
   },
   "outputs": [
    {
     "name": "stdout",
     "output_type": "stream",
     "text": [
      "Formato incorrecto en: raw_data_92_103_deporte.csv\n",
      "Formato incorrecto en: raw_data_92_76.csv\n",
      "Formato incorrecto en: raw_data_93_100.csv\n",
      "Formato incorrecto en: raw_data_93_116.csv\n",
      "Formato incorrecto en: raw_data_93_79.csv\n",
      "Formato incorrecto en: raw_data_95_77_01_03.csv\n",
      "Formato incorrecto en: raw_data_95_77_2.csv\n",
      "Formato incorrecto en: raw_data_95_80.csv\n",
      "Formato incorrecto en: raw_data_95_83.csv\n",
      "Formato incorrecto en: raw_data_95_87_apnea.csv\n",
      "Formato incorrecto en: raw_data_95_99.csv\n",
      "Formato incorrecto en: raw_data_96_74_papa.csv\n",
      "Formato incorrecto en: raw_datos_90_130.csv\n",
      "Empty DataFrame\n",
      "Columns: []\n",
      "Index: []\n",
      "¡Análisis completado! Los resultados se han guardado en 'resultados_estimaciones.csv'\n"
     ]
    }
   ],
   "source": [
    "import pandas as pd\n",
    "import matplotlib.pyplot as plt\n",
    "import numpy as np\n",
    "import re\n",
    "import os\n",
    "from scipy.signal import find_peaks\n",
    "\n",
    "# Ruta donde tienes los archivos CSV\n",
    "ruta_datos = r\"C:\\Users\\Elena\\Desktop\\GitHub\\TFG-Elena-Ruiz\\Datos\\Datos crudos\"\n",
    "\n",
    "# Función para calcular SpO2\n",
    "def calcular_spo2(ir, red):\n",
    "    ac_ir = np.std(ir)    # Componente AC (desviación estándar)\n",
    "    dc_ir = np.mean(ir)   # Componente DC (media)\n",
    "    ac_red = np.std(red)\n",
    "    dc_red = np.mean(red)\n",
    "\n",
    "    # Calcular el coeficiente R\n",
    "    R = (ac_red / dc_red) / (ac_ir / dc_ir)\n",
    "\n",
    "    # Fórmula empírica\n",
    "    spo2 = 110 - 25 * R\n",
    "    return spo2\n",
    "\n",
    "# Función para calcular la frecuencia cardíaca (HR)\n",
    "def calcular_hr(senal, tiempo):\n",
    "    # Detectar picos en la señal IR (ajustar 'height' y 'distance' si es necesario)\n",
    "    picos, _ = find_peaks(senal, height=1000, distance=20)\n",
    "\n",
    "    # Calcular el tiempo entre picos (en segundos)\n",
    "    tiempos_picos = tiempo[picos]\n",
    "    intervalos = np.diff(tiempos_picos)\n",
    "\n",
    "    # Calcular HR (latidos por minuto)\n",
    "    if len(intervalos) > 0:\n",
    "        hr = 60 / np.mean(intervalos)\n",
    "        return hr\n",
    "    else:\n",
    "        return np.nan\n",
    "\n",
    "# Función para suavizar las señales (filtro de media móvil)\n",
    "def suavizar(senal, ventana=5):\n",
    "    return np.convolve(senal, np.ones(ventana) / ventana, mode='same')\n",
    "\n",
    "# Listar los archivos CSV en la carpeta\n",
    "archivos = [f for f in os.listdir(ruta_datos) if f.endswith('.csv')]\n",
    "\n",
    "# Almacenar resultados\n",
    "resultados = []\n",
    "\n",
    "# Procesar cada archivo CSV\n",
    "for archivo in archivos:\n",
    "    # Extraer SpO₂ y HR reales del nombre del archivo (ejemplo: raw_data_93_100.csv)\n",
    "    valores = re.findall(r'\\d+', archivo)\n",
    "    if len(valores) >= 2:\n",
    "        spo2_real, hr_real = map(int, valores[-2:])\n",
    "    else:\n",
    "        print(f\"No se pudieron extraer los valores del archivo: {archivo}\")\n",
    "        continue\n",
    "\n",
    "    # Ruta completa del archivo\n",
    "    ruta_completa = os.path.join(ruta_datos, archivo)\n",
    "\n",
    "    # Cargar el CSV\n",
    "    df = pd.read_csv(ruta_completa)\n",
    "\n",
    "    # Validar que el CSV tenga las columnas correctas\n",
    "    if not all(col in df.columns for col in [\"Tiempo (ms)\", \"IR\", \"RED\"]):\n",
    "        print(f\"Formato incorrecto en: {archivo}\")\n",
    "        continue\n",
    "\n",
    "    # Convertir tiempo a segundos\n",
    "    df[\"Tiempo (s)\"] = df[\"Tiempo (ms)\"] / 1000\n",
    "\n",
    "    # Suavizar las señales\n",
    "    df[\"IR_suave\"] = suavizar(df[\"IR\"])\n",
    "    df[\"RED_suave\"] = suavizar(df[\"RED\"])\n",
    "\n",
    "    # Calcular HR y SpO2\n",
    "    hr_calculado = calcular_hr(df[\"IR_suave\"].values, df[\"Tiempo (s)\"].values)\n",
    "    spo2_calculado = calcular_spo2(df[\"IR_suave\"], df[\"RED_suave\"])\n",
    "\n",
    "    # Calcular errores\n",
    "    error_spo2 = abs(spo2_calculado - spo2_real)\n",
    "    error_hr = abs(hr_calculado - hr_real)\n",
    "\n",
    "    # Guardar los resultados\n",
    "    resultados.append({\n",
    "        \"Archivo\": archivo,\n",
    "        \"SpO₂ real\": spo2_real,\n",
    "        \"HR real\": hr_real,\n",
    "        \"SpO₂ calculado\": round(spo2_calculado, 2),\n",
    "        \"HR calculado\": round(hr_calculado, 2),\n",
    "        \"Error SpO₂\": round(error_spo2, 2),\n",
    "        \"Error HR\": round(error_hr, 2)\n",
    "    })\n",
    "\n",
    "    # Visualizar las señales\n",
    "    plt.figure(figsize=(12, 6))\n",
    "    plt.plot(df[\"Tiempo (s)\"], df[\"IR_suave\"], label=\"IR (suavizado)\")\n",
    "    plt.plot(df[\"Tiempo (s)\"], df[\"RED_suave\"], label=\"RED (suavizado)\")\n",
    "    plt.title(f\"{archivo} - SpO₂: {spo2_calculado:.2f}% | HR: {hr_calculado:.2f} BPM\")\n",
    "    plt.xlabel(\"Tiempo (s)\")\n",
    "    plt.ylabel(\"Intensidad\")\n",
    "    plt.legend()\n",
    "    plt.show()\n",
    "\n",
    "# Crear un DataFrame con los resultados\n",
    "df_resultados = pd.DataFrame(resultados)\n",
    "\n",
    "# Mostrar la tabla resumen\n",
    "print(df_resultados)\n",
    "\n",
    "# Guardar los resultados en un CSV\n",
    "df_resultados.to_csv(r\"C:\\Users\\Elena\\Desktop\\resultados_estimaciones.csv\", index=False)\n",
    "\n",
    "print(\"¡Análisis completado! Los resultados se han guardado en 'resultados_estimaciones.csv'\")\n"
   ]
  },
  {
   "cell_type": "code",
   "execution_count": null,
   "metadata": {},
   "outputs": [],
   "source": []
  },
  {
   "cell_type": "code",
   "execution_count": 2,
   "metadata": {},
   "outputs": [
    {
     "ename": "ValueError",
     "evalue": "Number of rows must be a positive integer, not 0",
     "output_type": "error",
     "traceback": [
      "\u001b[1;31m---------------------------------------------------------------------------\u001b[0m",
      "\u001b[1;31mValueError\u001b[0m                                Traceback (most recent call last)",
      "\u001b[1;32m<ipython-input-2-04525c458ad5>\u001b[0m in \u001b[0;36m<module>\u001b[1;34m\u001b[0m\n\u001b[0;32m     10\u001b[0m \u001b[1;33m\u001b[0m\u001b[0m\n\u001b[0;32m     11\u001b[0m \u001b[1;31m# Crear una figura para mostrar todas las señales en subgráficos\u001b[0m\u001b[1;33m\u001b[0m\u001b[1;33m\u001b[0m\u001b[1;33m\u001b[0m\u001b[0m\n\u001b[1;32m---> 12\u001b[1;33m \u001b[0mfig\u001b[0m\u001b[1;33m,\u001b[0m \u001b[0maxes\u001b[0m \u001b[1;33m=\u001b[0m \u001b[0mplt\u001b[0m\u001b[1;33m.\u001b[0m\u001b[0msubplots\u001b[0m\u001b[1;33m(\u001b[0m\u001b[0mlen\u001b[0m\u001b[1;33m(\u001b[0m\u001b[0mcsv_files\u001b[0m\u001b[1;33m)\u001b[0m\u001b[1;33m,\u001b[0m \u001b[1;36m1\u001b[0m\u001b[1;33m,\u001b[0m \u001b[0mfigsize\u001b[0m\u001b[1;33m=\u001b[0m\u001b[1;33m(\u001b[0m\u001b[1;36m10\u001b[0m\u001b[1;33m,\u001b[0m \u001b[1;36m5\u001b[0m \u001b[1;33m*\u001b[0m \u001b[0mlen\u001b[0m\u001b[1;33m(\u001b[0m\u001b[0mcsv_files\u001b[0m\u001b[1;33m)\u001b[0m\u001b[1;33m)\u001b[0m\u001b[1;33m)\u001b[0m\u001b[1;33m\u001b[0m\u001b[1;33m\u001b[0m\u001b[0m\n\u001b[0m\u001b[0;32m     13\u001b[0m \u001b[1;33m\u001b[0m\u001b[0m\n\u001b[0;32m     14\u001b[0m \u001b[1;31m# Si solo hay un archivo, aseguramos que \"axes\" sea una lista\u001b[0m\u001b[1;33m\u001b[0m\u001b[1;33m\u001b[0m\u001b[1;33m\u001b[0m\u001b[0m\n",
      "\u001b[1;32m~\\anaconda3\\lib\\site-packages\\matplotlib\\cbook\\deprecation.py\u001b[0m in \u001b[0;36mwrapper\u001b[1;34m(*args, **kwargs)\u001b[0m\n\u001b[0;32m    449\u001b[0m                 \u001b[1;34m\"parameter will become keyword-only %(removal)s.\"\u001b[0m\u001b[1;33m,\u001b[0m\u001b[1;33m\u001b[0m\u001b[1;33m\u001b[0m\u001b[0m\n\u001b[0;32m    450\u001b[0m                 name=name, obj_type=f\"parameter of {func.__name__}()\")\n\u001b[1;32m--> 451\u001b[1;33m         \u001b[1;32mreturn\u001b[0m \u001b[0mfunc\u001b[0m\u001b[1;33m(\u001b[0m\u001b[1;33m*\u001b[0m\u001b[0margs\u001b[0m\u001b[1;33m,\u001b[0m \u001b[1;33m**\u001b[0m\u001b[0mkwargs\u001b[0m\u001b[1;33m)\u001b[0m\u001b[1;33m\u001b[0m\u001b[1;33m\u001b[0m\u001b[0m\n\u001b[0m\u001b[0;32m    452\u001b[0m \u001b[1;33m\u001b[0m\u001b[0m\n\u001b[0;32m    453\u001b[0m     \u001b[1;32mreturn\u001b[0m \u001b[0mwrapper\u001b[0m\u001b[1;33m\u001b[0m\u001b[1;33m\u001b[0m\u001b[0m\n",
      "\u001b[1;32m~\\anaconda3\\lib\\site-packages\\matplotlib\\pyplot.py\u001b[0m in \u001b[0;36msubplots\u001b[1;34m(nrows, ncols, sharex, sharey, squeeze, subplot_kw, gridspec_kw, **fig_kw)\u001b[0m\n\u001b[0;32m   1286\u001b[0m     \"\"\"\n\u001b[0;32m   1287\u001b[0m     \u001b[0mfig\u001b[0m \u001b[1;33m=\u001b[0m \u001b[0mfigure\u001b[0m\u001b[1;33m(\u001b[0m\u001b[1;33m**\u001b[0m\u001b[0mfig_kw\u001b[0m\u001b[1;33m)\u001b[0m\u001b[1;33m\u001b[0m\u001b[1;33m\u001b[0m\u001b[0m\n\u001b[1;32m-> 1288\u001b[1;33m     axs = fig.subplots(nrows=nrows, ncols=ncols, sharex=sharex, sharey=sharey,\n\u001b[0m\u001b[0;32m   1289\u001b[0m                        \u001b[0msqueeze\u001b[0m\u001b[1;33m=\u001b[0m\u001b[0msqueeze\u001b[0m\u001b[1;33m,\u001b[0m \u001b[0msubplot_kw\u001b[0m\u001b[1;33m=\u001b[0m\u001b[0msubplot_kw\u001b[0m\u001b[1;33m,\u001b[0m\u001b[1;33m\u001b[0m\u001b[1;33m\u001b[0m\u001b[0m\n\u001b[0;32m   1290\u001b[0m                        gridspec_kw=gridspec_kw)\n",
      "\u001b[1;32m~\\anaconda3\\lib\\site-packages\\matplotlib\\cbook\\deprecation.py\u001b[0m in \u001b[0;36mwrapper\u001b[1;34m(*args, **kwargs)\u001b[0m\n\u001b[0;32m    449\u001b[0m                 \u001b[1;34m\"parameter will become keyword-only %(removal)s.\"\u001b[0m\u001b[1;33m,\u001b[0m\u001b[1;33m\u001b[0m\u001b[1;33m\u001b[0m\u001b[0m\n\u001b[0;32m    450\u001b[0m                 name=name, obj_type=f\"parameter of {func.__name__}()\")\n\u001b[1;32m--> 451\u001b[1;33m         \u001b[1;32mreturn\u001b[0m \u001b[0mfunc\u001b[0m\u001b[1;33m(\u001b[0m\u001b[1;33m*\u001b[0m\u001b[0margs\u001b[0m\u001b[1;33m,\u001b[0m \u001b[1;33m**\u001b[0m\u001b[0mkwargs\u001b[0m\u001b[1;33m)\u001b[0m\u001b[1;33m\u001b[0m\u001b[1;33m\u001b[0m\u001b[0m\n\u001b[0m\u001b[0;32m    452\u001b[0m \u001b[1;33m\u001b[0m\u001b[0m\n\u001b[0;32m    453\u001b[0m     \u001b[1;32mreturn\u001b[0m \u001b[0mwrapper\u001b[0m\u001b[1;33m\u001b[0m\u001b[1;33m\u001b[0m\u001b[0m\n",
      "\u001b[1;32m~\\anaconda3\\lib\\site-packages\\matplotlib\\figure.py\u001b[0m in \u001b[0;36msubplots\u001b[1;34m(self, nrows, ncols, sharex, sharey, squeeze, subplot_kw, gridspec_kw)\u001b[0m\n\u001b[0;32m   1520\u001b[0m         \u001b[1;32mif\u001b[0m \u001b[0mgridspec_kw\u001b[0m \u001b[1;32mis\u001b[0m \u001b[1;32mNone\u001b[0m\u001b[1;33m:\u001b[0m\u001b[1;33m\u001b[0m\u001b[1;33m\u001b[0m\u001b[0m\n\u001b[0;32m   1521\u001b[0m             \u001b[0mgridspec_kw\u001b[0m \u001b[1;33m=\u001b[0m \u001b[1;33m{\u001b[0m\u001b[1;33m}\u001b[0m\u001b[1;33m\u001b[0m\u001b[1;33m\u001b[0m\u001b[0m\n\u001b[1;32m-> 1522\u001b[1;33m         return (self.add_gridspec(nrows, ncols, figure=self, **gridspec_kw)\n\u001b[0m\u001b[0;32m   1523\u001b[0m                 .subplots(sharex=sharex, sharey=sharey, squeeze=squeeze,\n\u001b[0;32m   1524\u001b[0m                           subplot_kw=subplot_kw))\n",
      "\u001b[1;32m~\\anaconda3\\lib\\site-packages\\matplotlib\\figure.py\u001b[0m in \u001b[0;36madd_gridspec\u001b[1;34m(self, nrows, ncols, **kwargs)\u001b[0m\n\u001b[0;32m   2802\u001b[0m \u001b[1;33m\u001b[0m\u001b[0m\n\u001b[0;32m   2803\u001b[0m         \u001b[0m_\u001b[0m \u001b[1;33m=\u001b[0m \u001b[0mkwargs\u001b[0m\u001b[1;33m.\u001b[0m\u001b[0mpop\u001b[0m\u001b[1;33m(\u001b[0m\u001b[1;34m'figure'\u001b[0m\u001b[1;33m,\u001b[0m \u001b[1;32mNone\u001b[0m\u001b[1;33m)\u001b[0m  \u001b[1;31m# pop in case user has added this...\u001b[0m\u001b[1;33m\u001b[0m\u001b[1;33m\u001b[0m\u001b[0m\n\u001b[1;32m-> 2804\u001b[1;33m         \u001b[0mgs\u001b[0m \u001b[1;33m=\u001b[0m \u001b[0mGridSpec\u001b[0m\u001b[1;33m(\u001b[0m\u001b[0mnrows\u001b[0m\u001b[1;33m=\u001b[0m\u001b[0mnrows\u001b[0m\u001b[1;33m,\u001b[0m \u001b[0mncols\u001b[0m\u001b[1;33m=\u001b[0m\u001b[0mncols\u001b[0m\u001b[1;33m,\u001b[0m \u001b[0mfigure\u001b[0m\u001b[1;33m=\u001b[0m\u001b[0mself\u001b[0m\u001b[1;33m,\u001b[0m \u001b[1;33m**\u001b[0m\u001b[0mkwargs\u001b[0m\u001b[1;33m)\u001b[0m\u001b[1;33m\u001b[0m\u001b[1;33m\u001b[0m\u001b[0m\n\u001b[0m\u001b[0;32m   2805\u001b[0m         \u001b[0mself\u001b[0m\u001b[1;33m.\u001b[0m\u001b[0m_gridspecs\u001b[0m\u001b[1;33m.\u001b[0m\u001b[0mappend\u001b[0m\u001b[1;33m(\u001b[0m\u001b[0mgs\u001b[0m\u001b[1;33m)\u001b[0m\u001b[1;33m\u001b[0m\u001b[1;33m\u001b[0m\u001b[0m\n\u001b[0;32m   2806\u001b[0m         \u001b[1;32mreturn\u001b[0m \u001b[0mgs\u001b[0m\u001b[1;33m\u001b[0m\u001b[1;33m\u001b[0m\u001b[0m\n",
      "\u001b[1;32m~\\anaconda3\\lib\\site-packages\\matplotlib\\gridspec.py\u001b[0m in \u001b[0;36m__init__\u001b[1;34m(self, nrows, ncols, figure, left, bottom, right, top, wspace, hspace, width_ratios, height_ratios)\u001b[0m\n\u001b[0;32m    418\u001b[0m         \u001b[0mself\u001b[0m\u001b[1;33m.\u001b[0m\u001b[0mfigure\u001b[0m \u001b[1;33m=\u001b[0m \u001b[0mfigure\u001b[0m\u001b[1;33m\u001b[0m\u001b[1;33m\u001b[0m\u001b[0m\n\u001b[0;32m    419\u001b[0m \u001b[1;33m\u001b[0m\u001b[0m\n\u001b[1;32m--> 420\u001b[1;33m         GridSpecBase.__init__(self, nrows, ncols,\n\u001b[0m\u001b[0;32m    421\u001b[0m                               \u001b[0mwidth_ratios\u001b[0m\u001b[1;33m=\u001b[0m\u001b[0mwidth_ratios\u001b[0m\u001b[1;33m,\u001b[0m\u001b[1;33m\u001b[0m\u001b[1;33m\u001b[0m\u001b[0m\n\u001b[0;32m    422\u001b[0m                               height_ratios=height_ratios)\n",
      "\u001b[1;32m~\\anaconda3\\lib\\site-packages\\matplotlib\\gridspec.py\u001b[0m in \u001b[0;36m__init__\u001b[1;34m(self, nrows, ncols, height_ratios, width_ratios)\u001b[0m\n\u001b[0;32m     46\u001b[0m         \"\"\"\n\u001b[0;32m     47\u001b[0m         \u001b[1;32mif\u001b[0m \u001b[1;32mnot\u001b[0m \u001b[0misinstance\u001b[0m\u001b[1;33m(\u001b[0m\u001b[0mnrows\u001b[0m\u001b[1;33m,\u001b[0m \u001b[0mIntegral\u001b[0m\u001b[1;33m)\u001b[0m \u001b[1;32mor\u001b[0m \u001b[0mnrows\u001b[0m \u001b[1;33m<=\u001b[0m \u001b[1;36m0\u001b[0m\u001b[1;33m:\u001b[0m\u001b[1;33m\u001b[0m\u001b[1;33m\u001b[0m\u001b[0m\n\u001b[1;32m---> 48\u001b[1;33m             raise ValueError(\n\u001b[0m\u001b[0;32m     49\u001b[0m                 f\"Number of rows must be a positive integer, not {nrows}\")\n\u001b[0;32m     50\u001b[0m         \u001b[1;32mif\u001b[0m \u001b[1;32mnot\u001b[0m \u001b[0misinstance\u001b[0m\u001b[1;33m(\u001b[0m\u001b[0mncols\u001b[0m\u001b[1;33m,\u001b[0m \u001b[0mIntegral\u001b[0m\u001b[1;33m)\u001b[0m \u001b[1;32mor\u001b[0m \u001b[0mncols\u001b[0m \u001b[1;33m<=\u001b[0m \u001b[1;36m0\u001b[0m\u001b[1;33m:\u001b[0m\u001b[1;33m\u001b[0m\u001b[1;33m\u001b[0m\u001b[0m\n",
      "\u001b[1;31mValueError\u001b[0m: Number of rows must be a positive integer, not 0"
     ]
    },
    {
     "data": {
      "text/plain": [
       "<Figure size 720x0 with 0 Axes>"
      ]
     },
     "metadata": {},
     "output_type": "display_data"
    }
   ],
   "source": [
    "import matplotlib.pyplot as plt\n",
    "import pandas as pd\n",
    "import glob  # Para encontrar todos los archivos CSV automáticamente\n",
    "\n",
    "# Ruta donde están los archivos CSV\n",
    "carpeta_csv = r\"C:\\Users\\Elena\\Desktop\\GitHub\\TFG-Elena-Ruiz\\Datos\\Datos crudos\"\n",
    "\n",
    "# Obtener la lista de archivos CSV en la carpeta\n",
    "csv_files = glob.glob(carpeta_csv + \"*.csv\")\n",
    "\n",
    "# Crear una figura para mostrar todas las señales en subgráficos\n",
    "fig, axes = plt.subplots(len(csv_files), 1, figsize=(10, 5 * len(csv_files)))\n",
    "\n",
    "# Si solo hay un archivo, aseguramos que \"axes\" sea una lista\n",
    "if len(csv_files) == 1:\n",
    "    axes = [axes]\n",
    "\n",
    "# Iterar sobre cada archivo y graficar su señal IR\n",
    "for i, file in enumerate(csv_files):\n",
    "    df = pd.read_csv(file, sep=\",\")  # Asegúrate de que el separador es correcto\n",
    "    df = df[(df[\"Tiempo (ms)\"] >= 0) & (df[\"Tiempo (ms)\"] <= 30000)]  # Filtrar datos erróneos\n",
    "    \n",
    "    axes[i].plot(df[\"Tiempo (ms)\"], df[\"IR\"])\n",
    "    axes[i].set_xlabel(\"Tiempo (ms)\")\n",
    "    axes[i].set_ylabel(\"Señal IR\")\n",
    "    axes[i].set_title(f\"Señal IR - {file.split('/')[-1]}\")\n",
    "\n",
    "plt.tight_layout()\n",
    "plt.show()\n"
   ]
  },
  {
   "cell_type": "code",
   "execution_count": null,
   "metadata": {},
   "outputs": [],
   "source": []
  }
 ],
 "metadata": {
  "kernelspec": {
   "display_name": "Python 3",
   "language": "python",
   "name": "python3"
  },
  "language_info": {
   "codemirror_mode": {
    "name": "ipython",
    "version": 3
   },
   "file_extension": ".py",
   "mimetype": "text/x-python",
   "name": "python",
   "nbconvert_exporter": "python",
   "pygments_lexer": "ipython3",
   "version": "3.8.5"
  }
 },
 "nbformat": 4,
 "nbformat_minor": 4
}
