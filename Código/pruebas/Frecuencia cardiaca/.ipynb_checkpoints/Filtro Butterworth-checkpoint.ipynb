{
 "cells": [
  {
   "cell_type": "markdown",
   "metadata": {},
   "source": [
    "# Data set SpO2 = 95% y 80 BPM"
   ]
  },
  {
   "cell_type": "markdown",
   "metadata": {},
   "source": [
    "## 1. Carga de datos"
   ]
  },
  {
   "cell_type": "code",
   "execution_count": null,
   "metadata": {},
   "outputs": [],
   "source": [
    "import pandas as pd\n",
    "import matplotlib.pyplot as plt\n",
    "\n",
    "# Cargar el archivo CSV\n",
    "ruta_csv = r\"C:\\Users\\Elena\\Desktop\\GitHub\\TFG-Elena-Ruiz\\Datos\\Datos crudos\\save_log2\\raw_data_95_80.csv\"\n",
    "df = pd.read_csv(ruta_csv)\n",
    "\n",
    "# Mostrar las primeras filas\n",
    "print(df.head())\n",
    "\n",
    "# Graficar la señal IR para ver su forma\n",
    "plt.figure(figsize=(10,6))\n",
    "plt.plot(df[\"Tiempo (ms)\"], df[\"IR\"])\n",
    "plt.xlabel(\"Tiempo (ms)\")\n",
    "plt.ylabel(\"Intensidad IR\")\n",
    "plt.title(\"Señal del pulsioxímetro\")\n",
    "plt.show()\n"
   ]
  },
  {
   "cell_type": "markdown",
   "metadata": {},
   "source": [
    "## 2. Preprocesamiento de la señal\n"
   ]
  },
  {
   "cell_type": "markdown",
   "metadata": {},
   "source": [
    "Antes de detectar los picos de la señal hay que suavizar la señal, eliminar el ruido y los artefactos que pueda haber. "
   ]
  },
  {
   "cell_type": "markdown",
   "metadata": {},
   "source": [
    "### Filtrado con media móvil (simple)"
   ]
  },
  {
   "cell_type": "code",
   "execution_count": null,
   "metadata": {},
   "outputs": [],
   "source": [
    "# df[\"IR_filtrado\"] = df[\"IR\"].rolling(window=5, center=True).mean()\n",
    "\n",
    "# plt.figure(figsize=(10,6))\n",
    "# plt.plot(df[\"Tiempo (ms)\"], df[\"IR\"], label=\"Original\", alpha=0.5)\n",
    "# plt.plot(df[\"Tiempo (ms)\"], df[\"IR_filtrado\"], label=\"Filtrado\", linewidth=2)\n",
    "# plt.legend()\n",
    "# plt.title(\"Señal IR filtrada\")\n",
    "# plt.show()\n"
   ]
  },
  {
   "cell_type": "markdown",
   "metadata": {},
   "source": [
    "### Filtro Butterworth"
   ]
  },
  {
   "cell_type": "code",
   "execution_count": null,
   "metadata": {},
   "outputs": [],
   "source": [
    "from scipy.signal import butter, filtfilt\n",
    "\n",
    "# Función para aplicar un filtro pasa-bajos\n",
    "def butter_lowpass_filter(data, cutoff=3, fs=35, order=2):\n",
    "    nyquist = 0.5 * fs  # Frecuencia de Nyquist\n",
    "    normal_cutoff = cutoff / nyquist\n",
    "    b, a = butter(order, normal_cutoff, btype='low', analog=False)\n",
    "    return filtfilt(b, a, data)\n",
    "\n",
    "df[\"IR_filtrado\"] = butter_lowpass_filter(df[\"IR\"], cutoff=3, fs=60)\n",
    "\n",
    "plt.figure(figsize=(10,6))\n",
    "plt.plot(df[\"Tiempo (ms)\"], df[\"IR\"], alpha=0.5, label=\"Original\")\n",
    "plt.plot(df[\"Tiempo (ms)\"], df[\"IR_filtrado\"], label=\"Filtrado Butterworth\", linewidth=2)\n",
    "plt.legend()\n",
    "plt.title(\"Señal IR filtrada con Butterworth\")\n",
    "plt.show()\n"
   ]
  },
  {
   "cell_type": "markdown",
   "metadata": {},
   "source": [
    "### 3. Detección de picos (latidos)\n",
    "La frecuencia cardíaca se calcula detectando los picos de la señal filtrada, que corresponden a los latidos del corazón."
   ]
  },
  {
   "cell_type": "code",
   "execution_count": null,
   "metadata": {},
   "outputs": [],
   "source": [
    "from scipy.signal import find_peaks\n",
    "\n",
    "fs = 47  # Define la frecuencia de muestreo en Hz\n",
    "        # Si deteccta pocos picos --> reducir fs\n",
    "        # Si detecta muchos picos --\n",
    "# Detectar los picos (latidos)\n",
    "peaks, _ = find_peaks(df[\"IR_filtrado\"], distance=fs/2, height=0.5)  # Ajusta 'height' según la amplitud\n",
    "\n",
    "# Graficar los picos detectados\n",
    "plt.figure(figsize=(10,6))\n",
    "\n",
    "plt.plot(df[\"Tiempo (ms)\"], df[\"IR_filtrado\"], label=\"Señal filtrada\")\n",
    "plt.plot(df[\"Tiempo (ms)\"][peaks], df[\"IR_filtrado\"][peaks], \"ro\", label=\"Latidos detectados\")\n",
    "plt.legend()\n",
    "plt.title(\"Detección de latidos\")\n",
    "plt.show()\n"
   ]
  },
  {
   "cell_type": "markdown",
   "metadata": {},
   "source": [
    "## 4. Calcular la Frecuencia Cardíaca (BPM)\n",
    "Ahora, calculamos el tiempo entre picos y lo convertimos en latidos por minuto (BPM)."
   ]
  },
  {
   "cell_type": "code",
   "execution_count": null,
   "metadata": {},
   "outputs": [],
   "source": [
    "import numpy as np\n",
    "\n",
    "# Calcular los intervalos entre picos en segundos\n",
    "intervalos = np.diff(df[\"Tiempo (ms)\"][peaks]) / 1000  # Convertir ms a s\n",
    "\n",
    "# Calcular BPM promedio\n",
    "bpm = 60 / np.mean(intervalos)\n",
    "print(f\"Frecuencia cardíaca estimada: {bpm:.2f} BPM\")\n"
   ]
  },
  {
   "cell_type": "markdown",
   "metadata": {},
   "source": [
    "La frecuencia calculada debería de ser de 80 BPM"
   ]
  },
  {
   "cell_type": "markdown",
   "metadata": {},
   "source": [
    "Aunque la estimación está cerca de la frecuencia esperada, voy a ver si podemos acercarnos más al objetivo. "
   ]
  },
  {
   "cell_type": "markdown",
   "metadata": {},
   "source": [
    "**Ajuste del filtrado**\\\n",
    "El filtro Butterworth puede estar afectando la forma de la señal. Voy a probar un filtro de banda en lugar de un pasa-bajos para enfocarme solo en las frecuencias de interés (0.5-3 Hz, que corresponden a 30-180 BPM)."
   ]
  },
  {
   "cell_type": "markdown",
   "metadata": {},
   "source": [
    "**Ajustar la detección de picos**\\\n",
    "Parece que find_peaks() detecta más picos de los esperados. Voy a ajustar los parámetros:"
   ]
  },
  {
   "cell_type": "code",
   "execution_count": null,
   "metadata": {},
   "outputs": [],
   "source": [
    "peaks, _ = find_peaks(df[\"IR_filtrado\"], distance=fs/3, height=np.percentile(df[\"IR_filtrado\"], 80))\n",
    "\n",
    "plt.figure(figsize=(10,6))\n",
    "\n",
    "plt.plot(df[\"Tiempo (ms)\"], df[\"IR_filtrado\"], label=\"Señal filtrada\")\n",
    "plt.plot(df[\"Tiempo (ms)\"][peaks], df[\"IR_filtrado\"][peaks], \"ro\", label=\"Latidos detectados\")\n",
    "plt.legend()\n",
    "plt.title(\"Detección de latidos\")\n",
    "plt.show()\n"
   ]
  },
  {
   "cell_type": "code",
   "execution_count": null,
   "metadata": {},
   "outputs": [],
   "source": [
    "import numpy as np\n",
    "\n",
    "# Calcular los intervalos entre picos en segundos\n",
    "intervalos = np.diff(df[\"Tiempo (ms)\"][peaks]) / 1000  # Convertir ms a s\n",
    "\n",
    "# Calcular BPM promedio\n",
    "if len(intervalos) > 0:\n",
    "    bpm = 60 / np.median(intervalos)  # Mediana en lugar de media\n",
    "print(f\"Frecuencia cardíaca estimada: {bpm:.2f} BPM\")\n"
   ]
  },
  {
   "cell_type": "markdown",
   "metadata": {},
   "source": [
    "- Si detecta más picos de la cuenta, reducir distance en find_peaks():\n",
    "- Si detecta pocos picos, aumentar distance y height."
   ]
  },
  {
   "attachments": {
    "image.png": {
     "image/png": "[encoded data removed]"
    }
   },
   "cell_type": "markdown",
   "metadata": {},
   "source": [
    "El parámetro distance en find_peaks() define la distancia mínima entre picos (en número de muestras), lo que ayuda a evitar detecciones falsas. Para encontrar un valor óptimo, se puede calcular basandose en la frecuencia esperada de los latidos.\n",
    "\n",
    "![image.png](attachment:image.png)"
   ]
  },
  {
   "cell_type": "code",
   "execution_count": null,
   "metadata": {},
   "outputs": [],
   "source": [
    "tiempos = np.diff(df[\"Tiempo (ms)\"]) / 1000  # Diferencia entre cada muestra en segundos\n",
    "fs_real = 1 / np.mean(tiempos)  # Frecuencia de muestreo real\n",
    "print(f\"Frecuencia de muestreo real: {fs_real:.2f} Hz\")\n"
   ]
  },
  {
   "cell_type": "code",
   "execution_count": null,
   "metadata": {},
   "outputs": [],
   "source": [
    "bpm_esperado = 80  # Frecuencia cardíaca esperada en BPM\n",
    "fs_real = 60  # Asegúrate de calcular fs_real antes si puede variar\n",
    "\n",
    "distance_optimo = fs_real / (bpm_esperado / 60)\n",
    "print(f\"Valor óptimo de distance: {distance_optimo:.2f}\")\n"
   ]
  },
  {
   "cell_type": "markdown",
   "metadata": {},
   "source": [
    "# Data set SpO2 = 95% y 99 BPM"
   ]
  },
  {
   "cell_type": "code",
   "execution_count": null,
   "metadata": {},
   "outputs": [],
   "source": [
    "import pandas as pd\n",
    "import matplotlib.pyplot as plt\n",
    "\n",
    "# Cargar el archivo CSV\n",
    "ruta_csv = r\"C:\\Users\\Elena\\Desktop\\GitHub\\TFG-Elena-Ruiz\\Datos\\Datos crudos\\save_log2\\raw_data_95_99.csv\"\n",
    "df = pd.read_csv(ruta_csv, delimiter=\";\")\n",
    "\n",
    "# Mostrar las primeras filas\n",
    "print(df.head())\n",
    "\n",
    "# Graficar la señal IR para ver su forma\n",
    "plt.figure(figsize=(10,6))\n",
    "plt.plot(df[\"Tiempo (ms)\"], df[\"IR\"])\n",
    "plt.xlabel(\"Tiempo (ms)\")\n",
    "plt.ylabel(\"Intensidad IR\")\n",
    "plt.title(\"Señal del pulsioxímetro\")\n",
    "plt.show()\n"
   ]
  },
  {
   "cell_type": "code",
   "execution_count": null,
   "metadata": {},
   "outputs": [],
   "source": [
    "from scipy.signal import butter, filtfilt\n",
    "\n",
    "# Función para aplicar un filtro pasa-bajos\n",
    "def butter_lowpass_filter(data, cutoff=3, fs=35, order=2):\n",
    "    nyquist = 0.5 * fs  # Frecuencia de Nyquist\n",
    "    normal_cutoff = cutoff / nyquist\n",
    "    b, a = butter(order, normal_cutoff, btype='low', analog=False)\n",
    "    return filtfilt(b, a, data)\n",
    "\n",
    "df[\"IR_filtrado\"] = butter_lowpass_filter(df[\"IR\"], cutoff=3, fs=60)\n",
    "\n",
    "plt.figure(figsize=(10,6))\n",
    "plt.plot(df[\"Tiempo (ms)\"], df[\"IR\"], alpha=0.5, label=\"Original\")\n",
    "plt.plot(df[\"Tiempo (ms)\"], df[\"IR_filtrado\"], label=\"Filtrado Butterworth\", linewidth=2)\n",
    "plt.legend()\n",
    "plt.title(\"Señal IR filtrada con Butterworth\")\n",
    "plt.show()\n"
   ]
  },
  {
   "cell_type": "code",
   "execution_count": null,
   "metadata": {},
   "outputs": [],
   "source": [
    "from scipy.signal import find_peaks\n",
    "\n",
    "fs = 27  # Define la frecuencia de muestreo en Hz\n",
    "        # Si deteccta pocos picos --> reducir fs\n",
    "        # Si detecta muchos picos --\n",
    "# Detectar los picos (latidos)\n",
    "peaks, _ = find_peaks(df[\"IR_filtrado\"], distance=fs/2, height=0.5)  # Ajusta 'height' según la amplitud\n",
    "\n",
    "# Graficar los picos detectados\n",
    "plt.figure(figsize=(10,6))\n",
    "\n",
    "plt.plot(df[\"Tiempo (ms)\"], df[\"IR_filtrado\"], label=\"Señal filtrada\")\n",
    "plt.plot(df[\"Tiempo (ms)\"][peaks], df[\"IR_filtrado\"][peaks], \"ro\", label=\"Latidos detectados\")\n",
    "plt.legend()\n",
    "plt.title(\"Detección de latidos\")\n",
    "plt.show()\n"
   ]
  },
  {
   "cell_type": "code",
   "execution_count": null,
   "metadata": {},
   "outputs": [],
   "source": [
    "import numpy as np\n",
    "\n",
    "# Calcular los intervalos entre picos en segundos\n",
    "intervalos = np.diff(df[\"Tiempo (ms)\"][peaks]) / 1000  # Convertir ms a s\n",
    "\n",
    "# Calcular BPM promedio\n",
    "bpm = 60 / np.mean(intervalos)\n",
    "print(f\"Frecuencia cardíaca estimada: {bpm:.2f} BPM\")\n"
   ]
  },
  {
   "cell_type": "markdown",
   "metadata": {},
   "source": [
    "### Consigo estos resultados cambiando el valor de fs para cada set de datos, pero **¿Este ajuste de fs es generalizable o solo funciona para cada dataset individual?**"
   ]
  },
  {
   "cell_type": "markdown",
   "metadata": {},
   "source": [
    "Para asegurar de que este ajuste funciona en general y no solo para casos específicos:\n",
    "\n",
    "- Probar con más datasets\n",
    "\n",
    "Si en otros archivos el error sigue siendo bajo, entonces fs está bien ajustado globalmente.\n",
    "Si varía mucho, quizás necesitemos un método automático para optimizar fs en cada dataset.\n",
    "\n",
    "- Revisar la estabilidad de los picos detectados\n",
    "\n",
    "Mide la variabilidad en los intervalos entre picos.\n",
    "Si hay mucha variación, quizás fs está compensando otro problema (como ruido o mala detección de picos).\n",
    "\n",
    "- Explorar una optimización automática de fs\n",
    "\n",
    "Podemos usar un bucle iterativo que pruebe varios valores de fs y minimice el error respecto al valor esperado."
   ]
  },
  {
   "cell_type": "markdown",
   "metadata": {},
   "source": [
    "El objetivo es encontrar automáticamente el valor óptimo de fs para minimizar el error en la estimación de la frecuencia cardíaca."
   ]
  },
  {
   "cell_type": "markdown",
   "metadata": {},
   "source": [
    "**Estrategia**\n",
    "\n",
    "- Definir un rango de valores posibles para fs\n",
    "\n",
    "Basándonos en las pruebas voy a empezar entre 20 Hz y 60 Hz.\n",
    "\n",
    "- Aplicar el filtro Butterworth y detectar los picos\n",
    "\n",
    "Para cada fs, aplicamos el filtrado y detectamos los latidos.\n",
    "\n",
    "- Calcular la frecuencia cardíaca y comparar con el valor esperado\n",
    "\n",
    "El error será la diferencia entre la frecuencia estimada y la esperada.\n",
    "Busco el fs que minimice este error."
   ]
  },
  {
   "cell_type": "code",
   "execution_count": null,
   "metadata": {},
   "outputs": [],
   "source": [
    "import numpy as np\n",
    "import pandas as pd\n",
    "from scipy.signal import butter, filtfilt, find_peaks\n",
    "\n",
    "def butter_bandpass_filter(data, lowcut=0.5, highcut=3, fs=50, order=2):\n",
    "    nyquist = 0.5 * fs  # Frecuencia de Nyquist\n",
    "    low = lowcut / nyquist\n",
    "    high = highcut / nyquist\n",
    "    b, a = butter(order, [low, high], btype='band')\n",
    "    return filtfilt(b, a, data)\n",
    "\n",
    "def calcular_frecuencia_cardiaca(df, fs):\n",
    "    # Aplicamos el filtro\n",
    "    df[\"IR_filtrado\"] = butter_bandpass_filter(df[\"IR\"], fs=fs)\n",
    "    \n",
    "    # Detectamos los picos (latidos)\n",
    "    peaks, _ = find_peaks(df[\"IR_filtrado\"], distance=fs/2, height=0.5)\n",
    "    \n",
    "    # Calculamos la frecuencia cardíaca\n",
    "    tiempo_total = (df[\"Tiempo (ms)\"].iloc[-1] - df[\"Tiempo (ms)\"].iloc[0]) / 1000  # en segundos\n",
    "    bpm_estimado = (len(peaks) / tiempo_total) * 60\n",
    "    \n",
    "    return bpm_estimado\n",
    "\n",
    "def optimizar_fs(df, bpm_esperado, fs_min=15, fs_max=80, step=1):\n",
    "    mejor_fs = None\n",
    "    menor_error = float(\"inf\")\n",
    "    \n",
    "    for fs in range(fs_min, fs_max + 1, step):\n",
    "        bpm_estimado = calcular_frecuencia_cardiaca(df, fs)\n",
    "        error = abs(bpm_estimado - bpm_esperado)\n",
    "        \n",
    "        if error < menor_error:\n",
    "            menor_error = error\n",
    "            mejor_fs = fs\n",
    "            \n",
    "    return mejor_fs, menor_error\n",
    "\n",
    "#  USO DEL CÓDIGO\n",
    "ruta_csv = r\"C:\\Users\\Elena\\Desktop\\GitHub\\TFG-Elena-Ruiz\\Datos\\Datos crudos\\save_log2\\raw_data_95_80.csv\"\n",
    "df = pd.read_csv(ruta_csv)\n",
    "bpm_esperado = 80  # Ajusta con el valor real del pulsioxímetro externo\n",
    "\n",
    "mejor_fs, error = optimizar_fs(df, bpm_esperado)\n",
    "bpm_estimado_final = calcular_frecuencia_cardiaca(df, mejor_fs)\n",
    "\n",
    "print(f\"Mejor fs encontrado: {mejor_fs} Hz\")\n",
    "print(f\" Frecuencia cardíaca estimada: {bpm_estimado_final:.2f} BPM (Error: {error:.2f} BPM)\")\n"
   ]
  },
  {
   "cell_type": "code",
   "execution_count": null,
   "metadata": {},
   "outputs": [],
   "source": []
  }
 ],
 "metadata": {
  "kernelspec": {
   "display_name": "Python 3",
   "language": "python",
   "name": "python3"
  },
  "language_info": {
   "codemirror_mode": {
    "name": "ipython",
    "version": 3
   },
   "file_extension": ".py",
   "mimetype": "text/x-python",
   "name": "python",
   "nbconvert_exporter": "python",
   "pygments_lexer": "ipython3",
   "version": "3.8.5"
  }
 },
 "nbformat": 4,
 "nbformat_minor": 4
}
