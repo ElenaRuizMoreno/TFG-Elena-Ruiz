{
 "cells": [
  {
   "cell_type": "markdown",
   "metadata": {},
   "source": [
    "# Pruebas datos crudos sensor"
   ]
  },
  {
   "cell_type": "markdown",
   "metadata": {},
   "source": [
    "## Importar datos"
   ]
  },
  {
   "cell_type": "code",
   "execution_count": 9,
   "metadata": {},
   "outputs": [
    {
     "name": "stdout",
     "output_type": "stream",
     "text": [
      "<class 'pandas.core.frame.DataFrame'>\n",
      "RangeIndex: 10672 entries, 0 to 10671\n",
      "Data columns (total 5 columns):\n",
      " #   Column       Non-Null Count  Dtype  \n",
      "---  ------       --------------  -----  \n",
      " 0   Tiempo (ms)  10671 non-null  float64\n",
      " 1   IR           10672 non-null  int64  \n",
      " 2   AMB_IR       10672 non-null  int64  \n",
      " 3   RED          10672 non-null  int64  \n",
      " 4   AMB_RED      10672 non-null  int64  \n",
      "dtypes: float64(1), int64(4)\n",
      "memory usage: 417.0 KB\n"
     ]
    }
   ],
   "source": [
    "import pandas as pd\n",
    "\n",
    "file_path = r\"C:\\Users\\Elena\\Desktop\\GitHub\\TFG-Elena-Ruiz\\Datos\\Datos crudos\\raw_data_92_103_deporte.csv\"\n",
    "\n",
    "df = pd.read_csv(file_path, delimiter=\",\")  # Asegúrate de que el delimitador es correcto\n",
    "df.head() # Muestra las primeras filas\n",
    "df.info()"
   ]
  }
 ],
 "metadata": {
  "kernelspec": {
   "display_name": "Python 3",
   "language": "python",
   "name": "python3"
  },
  "language_info": {
   "codemirror_mode": {
    "name": "ipython",
    "version": 3
   },
   "file_extension": ".py",
   "mimetype": "text/x-python",
   "name": "python",
   "nbconvert_exporter": "python",
   "pygments_lexer": "ipython3",
   "version": "3.8.5"
  }
 },
 "nbformat": 4,
 "nbformat_minor": 4
}
