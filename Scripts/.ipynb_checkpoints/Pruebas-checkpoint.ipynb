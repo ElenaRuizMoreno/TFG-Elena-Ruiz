{
 "cells": [
  {
   "cell_type": "markdown",
   "metadata": {},
   "source": [
    "# Pruebas datos crudos sensor"
   ]
  },
  {
   "cell_type": "markdown",
   "metadata": {},
   "source": [
    "## Importar datos"
   ]
  },
  {
   "cell_type": "markdown",
   "metadata": {},
   "source": [
    "- Esto guarda cada archivo CSV en un diccionario dataframes, donde la clave es el nombre del archivo y el valor es su DataFrame correspondiente.\n",
    "- Puedes acceder a cualquier CSV con dataframes[\"nombre_del_archivo_sin_extension\"]."
   ]
  },
  {
   "cell_type": "code",
   "execution_count": 19,
   "metadata": {},
   "outputs": [
    {
     "name": "stdout",
     "output_type": "stream",
     "text": [
      "Archivos cargados: ['raw_data_92_103_deporte', 'raw_data_95_77', 'raw_data_95_83', 'raw_data_95_87_apnea', 'raw_data_96_74_papa']\n"
     ]
    },
    {
     "data": {
      "text/html": [
       "<div>\n",
       "<style scoped>\n",
       "    .dataframe tbody tr th:only-of-type {\n",
       "        vertical-align: middle;\n",
       "    }\n",
       "\n",
       "    .dataframe tbody tr th {\n",
       "        vertical-align: top;\n",
       "    }\n",
       "\n",
       "    .dataframe thead th {\n",
       "        text-align: right;\n",
       "    }\n",
       "</style>\n",
       "<table border=\"1\" class=\"dataframe\">\n",
       "  <thead>\n",
       "    <tr style=\"text-align: right;\">\n",
       "      <th></th>\n",
       "      <th>Tiempo (ms)</th>\n",
       "      <th>IR</th>\n",
       "      <th>AMB_IR</th>\n",
       "      <th>RED</th>\n",
       "      <th>AMB_RED</th>\n",
       "    </tr>\n",
       "  </thead>\n",
       "  <tbody>\n",
       "    <tr>\n",
       "      <th>0</th>\n",
       "      <td>0.0</td>\n",
       "      <td>0</td>\n",
       "      <td>0</td>\n",
       "      <td>7835</td>\n",
       "      <td>0</td>\n",
       "    </tr>\n",
       "    <tr>\n",
       "      <th>1</th>\n",
       "      <td>0.0</td>\n",
       "      <td>0</td>\n",
       "      <td>0</td>\n",
       "      <td>7835</td>\n",
       "      <td>5317</td>\n",
       "    </tr>\n",
       "    <tr>\n",
       "      <th>2</th>\n",
       "      <td>1.0</td>\n",
       "      <td>36604</td>\n",
       "      <td>0</td>\n",
       "      <td>7835</td>\n",
       "      <td>5317</td>\n",
       "    </tr>\n",
       "    <tr>\n",
       "      <th>3</th>\n",
       "      <td>1.0</td>\n",
       "      <td>36604</td>\n",
       "      <td>5337</td>\n",
       "      <td>7835</td>\n",
       "      <td>5317</td>\n",
       "    </tr>\n",
       "    <tr>\n",
       "      <th>4</th>\n",
       "      <td>2.0</td>\n",
       "      <td>36604</td>\n",
       "      <td>5337</td>\n",
       "      <td>8743</td>\n",
       "      <td>5317</td>\n",
       "    </tr>\n",
       "    <tr>\n",
       "      <th>...</th>\n",
       "      <td>...</td>\n",
       "      <td>...</td>\n",
       "      <td>...</td>\n",
       "      <td>...</td>\n",
       "      <td>...</td>\n",
       "    </tr>\n",
       "    <tr>\n",
       "      <th>10667</th>\n",
       "      <td>29990.0</td>\n",
       "      <td>39833</td>\n",
       "      <td>8239</td>\n",
       "      <td>7359</td>\n",
       "      <td>8225</td>\n",
       "    </tr>\n",
       "    <tr>\n",
       "      <th>10668</th>\n",
       "      <td>29990.0</td>\n",
       "      <td>39833</td>\n",
       "      <td>8239</td>\n",
       "      <td>7329</td>\n",
       "      <td>8225</td>\n",
       "    </tr>\n",
       "    <tr>\n",
       "      <th>10669</th>\n",
       "      <td>29991.0</td>\n",
       "      <td>39833</td>\n",
       "      <td>8239</td>\n",
       "      <td>7329</td>\n",
       "      <td>8217</td>\n",
       "    </tr>\n",
       "    <tr>\n",
       "      <th>10670</th>\n",
       "      <td>29991.0</td>\n",
       "      <td>39833</td>\n",
       "      <td>8239</td>\n",
       "      <td>7329</td>\n",
       "      <td>8217</td>\n",
       "    </tr>\n",
       "    <tr>\n",
       "      <th>10671</th>\n",
       "      <td>29992.0</td>\n",
       "      <td>39806</td>\n",
       "      <td>8229</td>\n",
       "      <td>7329</td>\n",
       "      <td>8217</td>\n",
       "    </tr>\n",
       "  </tbody>\n",
       "</table>\n",
       "<p>10672 rows × 5 columns</p>\n",
       "</div>"
      ],
      "text/plain": [
       "       Tiempo (ms)     IR  AMB_IR   RED  AMB_RED\n",
       "0              0.0      0       0  7835        0\n",
       "1              0.0      0       0  7835     5317\n",
       "2              1.0  36604       0  7835     5317\n",
       "3              1.0  36604    5337  7835     5317\n",
       "4              2.0  36604    5337  8743     5317\n",
       "...            ...    ...     ...   ...      ...\n",
       "10667      29990.0  39833    8239  7359     8225\n",
       "10668      29990.0  39833    8239  7329     8225\n",
       "10669      29991.0  39833    8239  7329     8217\n",
       "10670      29991.0  39833    8239  7329     8217\n",
       "10671      29992.0  39806    8229  7329     8217\n",
       "\n",
       "[10672 rows x 5 columns]"
      ]
     },
     "execution_count": 19,
     "metadata": {},
     "output_type": "execute_result"
    }
   ],
   "source": [
    "import pandas as pd\n",
    "import glob\n",
    "import os\n",
    "\n",
    "folder_path = r\"C:\\Users\\Elena\\Desktop\\GitHub\\TFG-Elena-Ruiz\\Datos\\Datos crudos\"\n",
    "\n",
    "# Busca todos los archivos CSV en la carpeta\n",
    "csv_files = glob.glob(os.path.join(folder_path, \"*.csv\"))\n",
    "\n",
    "# Crear un diccionario con los DataFrames, usando el nombre del archivo sin extensión como clave\n",
    "dataframes = {os.path.basename(file).replace('.csv', ''): pd.read_csv(file, delimiter=\",\") for file in csv_files}\n",
    "\n",
    "# Mostrar los nombres de los archivos cargados\n",
    "print(\"Archivos cargados:\", list(dataframes.keys()))\n",
    "\n",
    "# Acceder a un DataFrame específico, por ejemplo:\n",
    "nombre_archivo = \"raw_data_92_103_deporte\"  # Cambia esto por el nombre del archivo sin \".csv\"\n",
    "df = dataframes[nombre_archivo]\n",
    "df\n"
   ]
  },
  {
   "cell_type": "code",
   "execution_count": 23,
   "metadata": {},
   "outputs": [
    {
     "data": {
      "image/png": "[encoded data removed]",
      "text/plain": [
       "<Figure size 864x432 with 1 Axes>"
      ]
     },
     "metadata": {
      "needs_background": "light"
     },
     "output_type": "display_data"
    }
   ],
   "source": [
    "# Convertir el tiempo de milisegundos a segundos\n",
    "df[\"Tiempo\"] = df[\"Tiempo\"] / 1000  # Ahora el tiempo está en segundos\n",
    "\n",
    "# Filtrar hasta los 30 segundos\n",
    "df_filtrado = df[df[\"Tiempo\"] <= 30]\n",
    "\n",
    "# Graficar con la escala correcta\n",
    "plt.figure(figsize=(12, 6))\n",
    "plt.plot(df_filtrado[\"Tiempo\"], df_filtrado[\"IR\"], label=\"IR\")\n",
    "plt.plot(df_filtrado[\"Tiempo\"], df_filtrado[\"Red\"], label=\"Red\", alpha=0.7)\n",
    "plt.xlabel(\"Tiempo (s)\")\n",
    "plt.ylabel(\"Señal\")\n",
    "plt.title(\"Señales IR y Red en 30 segundos\")\n",
    "plt.legend()\n",
    "plt.grid()\n",
    "plt.show()\n"
   ]
  },
  {
   "cell_type": "code",
   "execution_count": 24,
   "metadata": {},
   "outputs": [
    {
     "name": "stdout",
     "output_type": "stream",
     "text": [
      "(10670, 5)\n"
     ]
    }
   ],
   "source": [
    "print(df_filtrado.shape)  # Debe mostrar algo como (1800, 5)\n"
   ]
  },
  {
   "cell_type": "code",
   "execution_count": 25,
   "metadata": {},
   "outputs": [
    {
     "name": "stdout",
     "output_type": "stream",
     "text": [
      "Duración real del log: 0.00 segundos\n"
     ]
    }
   ],
   "source": [
    "duracion_real = df[\"Tiempo\"].iloc[-1] - df[\"Tiempo\"].iloc[0]  # Diferencia entre primer y último tiempo\n",
    "print(f\"Duración real del log: {duracion_real / 1000:.2f} segundos\")  # Convertimos ms a segundos\n"
   ]
  },
  {
   "cell_type": "code",
   "execution_count": 26,
   "metadata": {},
   "outputs": [
    {
     "name": "stdout",
     "output_type": "stream",
     "text": [
      "Frecuencia de muestreo estimada: 1000000000.00 Hz\n"
     ]
    }
   ],
   "source": [
    "df[\"Delta_t\"] = df[\"Tiempo\"].diff()  # Diferencia entre tiempos consecutivos\n",
    "frecuencia_real = 1000 / df[\"Delta_t\"].median()  # Convertimos de ms a Hz\n",
    "print(f\"Frecuencia de muestreo estimada: {frecuencia_real:.2f} Hz\")"
   ]
  },
  {
   "cell_type": "code",
   "execution_count": 27,
   "metadata": {},
   "outputs": [
    {
     "name": "stdout",
     "output_type": "stream",
     "text": [
      "0.0 1004.110044\n"
     ]
    }
   ],
   "source": [
    "print(df[\"Tiempo\"].min(), df[\"Tiempo\"].max())  # Debe ir desde 0 hasta ~30,000 ms\n"
   ]
  },
  {
   "cell_type": "code",
   "execution_count": 28,
   "metadata": {},
   "outputs": [
    {
     "data": {
      "image/png": "[encoded data removed]",
      "text/plain": [
       "<Figure size 864x432 with 1 Axes>"
      ]
     },
     "metadata": {
      "needs_background": "light"
     },
     "output_type": "display_data"
    }
   ],
   "source": [
    "plt.figure(figsize=(12, 6))\n",
    "plt.plot(df[\"Tiempo\"] / 1000, df[\"IR\"], label=\"IR\")\n",
    "plt.plot(df[\"Tiempo\"] / 1000, df[\"Red\"], label=\"Red\", alpha=0.7)\n",
    "plt.xlabel(\"Tiempo (s)\")\n",
    "plt.ylabel(\"Señal\")\n",
    "plt.title(\"Señales IR y Red en 30 segundos\")\n",
    "plt.xlim([0, 30])  # Forzamos el eje X a 30 segundos\n",
    "plt.legend()\n",
    "plt.grid()\n",
    "plt.show()\n"
   ]
  }
 ],
 "metadata": {
  "kernelspec": {
   "display_name": "Python 3",
   "language": "python",
   "name": "python3"
  },
  "language_info": {
   "codemirror_mode": {
    "name": "ipython",
    "version": 3
   },
   "file_extension": ".py",
   "mimetype": "text/x-python",
   "name": "python",
   "nbconvert_exporter": "python",
   "pygments_lexer": "ipython3",
   "version": "3.8.5"
  }
 },
 "nbformat": 4,
 "nbformat_minor": 4
}
